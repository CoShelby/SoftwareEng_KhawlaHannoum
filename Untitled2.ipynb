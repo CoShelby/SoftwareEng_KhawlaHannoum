{
  "nbformat": 4,
  "nbformat_minor": 0,
  "metadata": {
    "colab": {
      "provenance": [],
      "gpuType": "T4",
      "authorship_tag": "ABX9TyPDBof+VUN0CSNIFULg9i2S",
      "include_colab_link": true
    },
    "kernelspec": {
      "name": "python3",
      "display_name": "Python 3"
    },
    "language_info": {
      "name": "python"
    },
    "accelerator": "GPU"
  },
  "cells": [
    {
      "cell_type": "markdown",
      "metadata": {
        "id": "view-in-github",
        "colab_type": "text"
      },
      "source": [
        "<a href=\"https://colab.research.google.com/github/CoShelby/SoftwareEng_KhawlaHannoum/blob/master/Untitled2.ipynb\" target=\"_parent\"><img src=\"https://colab.research.google.com/assets/colab-badge.svg\" alt=\"Open In Colab\"/></a>"
      ]
    },
    {
      "cell_type": "code",
      "source": [],
      "metadata": {
        "id": "XmF3Wr8Hu-UL"
      },
      "execution_count": null,
      "outputs": []
    },
    {
      "cell_type": "markdown",
      "metadata": {
        "id": "70964c00"
      },
      "source": [
        "# Task\n",
        "Web scrape the content from \"https://hy.wikipedia.org/\" and save the results to a text file."
      ]
    },
    {
      "cell_type": "markdown",
      "metadata": {
        "id": "b6aa8a16"
      },
      "source": [
        "## Install necessary libraries\n",
        "\n",
        "### Subtask:\n",
        "Install libraries required for web scraping and file handling.\n"
      ]
    },
    {
      "cell_type": "markdown",
      "metadata": {
        "id": "6609379e"
      },
      "source": [
        "**Reasoning**:\n",
        "Install the necessary libraries for web scraping.\n",
        "\n"
      ]
    },
    {
      "cell_type": "code",
      "metadata": {
        "colab": {
          "base_uri": "https://localhost:8080/"
        },
        "id": "647283ba",
        "outputId": "9ecbd160-2201-4232-8fd7-2001d8ce9cd7"
      },
      "source": [
        "%pip install requests beautifulsoup4"
      ],
      "execution_count": null,
      "outputs": [
        {
          "output_type": "stream",
          "name": "stdout",
          "text": [
            "Requirement already satisfied: requests in /usr/local/lib/python3.12/dist-packages (2.32.4)\n",
            "Requirement already satisfied: beautifulsoup4 in /usr/local/lib/python3.12/dist-packages (4.13.5)\n",
            "Requirement already satisfied: charset_normalizer<4,>=2 in /usr/local/lib/python3.12/dist-packages (from requests) (3.4.3)\n",
            "Requirement already satisfied: idna<4,>=2.5 in /usr/local/lib/python3.12/dist-packages (from requests) (3.10)\n",
            "Requirement already satisfied: urllib3<3,>=1.21.1 in /usr/local/lib/python3.12/dist-packages (from requests) (2.5.0)\n",
            "Requirement already satisfied: certifi>=2017.4.17 in /usr/local/lib/python3.12/dist-packages (from requests) (2025.8.3)\n",
            "Requirement already satisfied: soupsieve>1.2 in /usr/local/lib/python3.12/dist-packages (from beautifulsoup4) (2.8)\n",
            "Requirement already satisfied: typing-extensions>=4.0.0 in /usr/local/lib/python3.12/dist-packages (from beautifulsoup4) (4.15.0)\n"
          ]
        }
      ]
    },
    {
      "cell_type": "markdown",
      "metadata": {
        "id": "81b90d41"
      },
      "source": [
        "## Fetch the webpage content\n",
        "\n",
        "### Subtask:\n",
        "Use a library to fetch the content of the specified URL.\n"
      ]
    },
    {
      "cell_type": "markdown",
      "metadata": {
        "id": "b7704bf5"
      },
      "source": [
        "**Reasoning**:\n",
        "Import the requests library, define the URL, fetch the content, store the response, and check the status code as instructed.\n",
        "\n"
      ]
    },
    {
      "cell_type": "code",
      "metadata": {
        "colab": {
          "base_uri": "https://localhost:8080/"
        },
        "id": "71396481",
        "outputId": "a284e33f-476e-45b2-ec61-5f4cc5104461"
      },
      "source": [
        "import requests\n",
        "\n",
        "url = \"https://hy.wikipedia.org/\"\n",
        "response = requests.get(url)\n",
        "\n",
        "print(f\"Status Code: {response.status_code}\")"
      ],
      "execution_count": null,
      "outputs": [
        {
          "output_type": "stream",
          "name": "stdout",
          "text": [
            "Status Code: 403\n"
          ]
        }
      ]
    },
    {
      "cell_type": "markdown",
      "metadata": {
        "id": "8922309a"
      },
      "source": [
        "**Reasoning**:\n",
        "The previous attempt resulted in a 403 Forbidden error, likely due to the website blocking standard requests. Adding a User-Agent header might help bypass this restriction.\n",
        "\n"
      ]
    },
    {
      "cell_type": "code",
      "metadata": {
        "colab": {
          "base_uri": "https://localhost:8080/"
        },
        "id": "c64b60e0",
        "outputId": "9b77295d-608d-472c-f0f0-d539642c7a42"
      },
      "source": [
        "headers = {\n",
        "    'User-Agent': 'Mozilla/5.0 (Windows NT 10.0; Win64; x64) AppleWebKit/537.36 (KHTML, like Gecko) Chrome/58.0.3029.110 Safari/537.3'\n",
        "}\n",
        "response = requests.get(url, headers=headers)\n",
        "\n",
        "print(f\"Status Code: {response.status_code}\")"
      ],
      "execution_count": null,
      "outputs": [
        {
          "output_type": "stream",
          "name": "stdout",
          "text": [
            "Status Code: 200\n"
          ]
        }
      ]
    },
    {
      "cell_type": "markdown",
      "metadata": {
        "id": "53e819d6"
      },
      "source": [
        "## Extract relevant information\n",
        "\n",
        "### Subtask:\n",
        "Parse the webpage content to extract the desired text.\n"
      ]
    },
    {
      "cell_type": "markdown",
      "metadata": {
        "id": "7b53b9fc"
      },
      "source": [
        "**Reasoning**:\n",
        "Import the `BeautifulSoup` class, create a BeautifulSoup object, and extract the text content from the parsed HTML.\n",
        "\n"
      ]
    },
    {
      "cell_type": "code",
      "metadata": {
        "colab": {
          "base_uri": "https://localhost:8080/"
        },
        "id": "7fd575e7",
        "outputId": "1fc709fb-7cd1-47d8-ceaf-947e7a236b7f"
      },
      "source": [
        "from bs4 import BeautifulSoup\n",
        "\n",
        "soup = BeautifulSoup(response.text, 'html.parser')\n",
        "text_content = soup.get_text()\n",
        "\n",
        "print(text_content[:500])"
      ],
      "execution_count": null,
      "outputs": [
        {
          "output_type": "stream",
          "name": "stdout",
          "text": [
            "\n",
            "\n",
            "\n",
            "\n",
            "Վիքիպեդիա՝ ազատ հանրագիտարան\n",
            "\n",
            "\n",
            "\n",
            "\n",
            "\n",
            "\n",
            "\n",
            "\n",
            "\n",
            "\n",
            "\n",
            "\n",
            "\n",
            "\n",
            "\n",
            "\n",
            "\n",
            "\n",
            "\n",
            "\n",
            "\n",
            "\n",
            "\n",
            "\n",
            "\n",
            "\n",
            "\n",
            "\n",
            "\n",
            "\n",
            "Jump to content\n",
            "\n",
            "\n",
            "\n",
            "\n",
            "\n",
            "\n",
            "\n",
            "Հիմնական ընտրացանկ\n",
            "\n",
            "\n",
            "\n",
            "\n",
            "\n",
            "Հիմնական ընտրացանկ\n",
            "տեղափոխել կողագոտի\n",
            "թաքցնել\n",
            "\n",
            "\n",
            "\n",
            "\t\tՆավարկում\n",
            "\t\n",
            "\n",
            "\n",
            "Գլխավոր էջԿատեգորիաներՊատահական հոդվածՆոր էջերԸնթացիկ իրադարձություններ\n",
            "\n",
            "\n",
            "\n",
            "\n",
            "\n",
            "\t\tՄասնակցել\n",
            "\t\n",
            "\n",
            "\n",
            "ԷությունըԽորհրդարանՎերջին փոփոխություններՕգնությունՍպասարկող էջեր\n",
            "\n",
            "\n",
            "\n",
            "\n",
            "\n",
            "\n",
            "\n",
            "\n",
            "\n",
            "\n",
            "\n",
            "\n",
            "\n",
            "\n",
            "\n",
            "\n",
            "\n",
            "\n",
            "\n",
            "Որոնել\n",
            "\n",
            "\n",
            "\n",
            "\n",
            "\n",
            "\n",
            "\n",
            "\n",
            "\n",
            "\n",
            "\n",
            "Որոնել\n",
            "\n",
            "\n",
            "\n",
            "\n",
            "\n",
            "\n",
            "\n",
            "\n",
            "\n",
            "\n",
            "\n",
            "\n",
            "\n",
            "\n",
            "\n",
            "\n",
            "\n",
            "\n",
            "\n",
            "\n",
            "\n",
            "\n",
            "Արտաքին տեսք\n",
            "\n",
            "\n",
            "\n",
            "\n",
            "\n",
            "\n",
            "\n",
            "\n",
            "\n",
            "\n",
            "\n",
            "\n",
            "\n",
            "\n",
            "\n",
            "\n",
            "Նվիրաբերել\n",
            "\n",
            "Ստեղծել հաշիվ\n",
            "\n",
            "Մտնել\n",
            "\n",
            "\n",
            "\n",
            "\n",
            "\n",
            "\n",
            "\n",
            "\n",
            "Անձնական գործիքներ\n",
            "\n",
            "\n",
            "\n",
            "\n",
            "\n",
            "Նվիրաբ\n"
          ]
        }
      ]
    },
    {
      "cell_type": "markdown",
      "metadata": {
        "id": "702c2e40"
      },
      "source": [
        "## Save the extracted text to a file\n",
        "\n",
        "### Subtask:\n",
        "Write the extracted text into a text file.\n"
      ]
    },
    {
      "cell_type": "markdown",
      "metadata": {
        "id": "6c5f7d28"
      },
      "source": [
        "**Reasoning**:\n",
        "Write the extracted text to a file.\n",
        "\n"
      ]
    },
    {
      "cell_type": "code",
      "metadata": {
        "id": "c4ffb7b2"
      },
      "source": [
        "with open('hy_wikipedia_content.txt', 'w', encoding='utf-8') as f:\n",
        "  f.write(text_content)"
      ],
      "execution_count": null,
      "outputs": []
    },
    {
      "cell_type": "markdown",
      "metadata": {
        "id": "de7ee227"
      },
      "source": [
        "## Summary:\n",
        "\n",
        "### Data Analysis Key Findings\n",
        "\n",
        "*   The initial attempt to fetch the webpage content resulted in a 403 Forbidden error, which was resolved by adding a `User-Agent` header to the request, leading to a successful response with a status code of 200.\n",
        "*   The `BeautifulSoup` library successfully parsed the fetched HTML content and extracted the text using the `get_text()` method.\n",
        "*   The extracted text content was successfully written to a file named `hy_wikipedia_content.txt` using UTF-8 encoding.\n",
        "\n",
        "### Insights or Next Steps\n",
        "\n",
        "*   The process successfully scraped and saved the text content of the Armenian Wikipedia homepage.\n",
        "*   Further analysis could involve cleaning the extracted text (e.g., removing excess whitespace, headers, footers) to isolate the main article content.\n"
      ]
    },
    {
      "cell_type": "code",
      "source": [
        "ls /content"
      ],
      "metadata": {
        "colab": {
          "base_uri": "https://localhost:8080/"
        },
        "id": "fAd8mqr76Ht0",
        "outputId": "02441fde-2e00-45ae-af82-e50d4990bc15"
      },
      "execution_count": null,
      "outputs": [
        {
          "output_type": "stream",
          "name": "stdout",
          "text": [
            "arm_text.txt  \u001b[0m\u001b[01;34mdrive\u001b[0m/  \u001b[01;34mfonts\u001b[0m/  hy_wikipedia_content.txt  \u001b[01;34msample_data\u001b[0m/\n"
          ]
        }
      ]
    },
    {
      "cell_type": "code",
      "source": [
        "!pip install trdg"
      ],
      "metadata": {
        "colab": {
          "base_uri": "https://localhost:8080/"
        },
        "id": "ZTaQ75uK6UR5",
        "outputId": "9d5e97e1-90af-4d96-a241-e6c48b95d291"
      },
      "execution_count": null,
      "outputs": [
        {
          "output_type": "stream",
          "name": "stdout",
          "text": [
            "Collecting trdg\n",
            "  Downloading trdg-1.8.0-py3-none-any.whl.metadata (9.0 kB)\n",
            "Requirement already satisfied: pillow>=7.0.0 in /usr/local/lib/python3.12/dist-packages (from trdg) (11.3.0)\n",
            "Requirement already satisfied: requests>=2.20.0 in /usr/local/lib/python3.12/dist-packages (from trdg) (2.32.4)\n",
            "Requirement already satisfied: opencv-python>=4.2.0.32 in /usr/local/lib/python3.12/dist-packages (from trdg) (4.12.0.88)\n",
            "Requirement already satisfied: tqdm>=4.23.0 in /usr/local/lib/python3.12/dist-packages (from trdg) (4.67.1)\n",
            "Collecting wikipedia>=1.4.0 (from trdg)\n",
            "  Downloading wikipedia-1.4.0.tar.gz (27 kB)\n",
            "  Preparing metadata (setup.py) ... \u001b[?25l\u001b[?25hdone\n",
            "Collecting diffimg==0.2.3 (from trdg)\n",
            "  Downloading diffimg-0.2.3.tar.gz (4.1 kB)\n",
            "  Preparing metadata (setup.py) ... \u001b[?25l\u001b[?25hdone\n",
            "Collecting arabic-reshaper==2.1.3 (from trdg)\n",
            "  Downloading arabic_reshaper-2.1.3-py3-none-any.whl.metadata (12 kB)\n",
            "\u001b[33mWARNING: Ignoring version 2.1.3 of arabic-reshaper since it has invalid metadata:\n",
            "Requested arabic-reshaper==2.1.3 from https://files.pythonhosted.org/packages/47/27/7b9b824f5342d8ee180027333f2e15842ea36f5bc2d3d24a4e6bb31fb596/arabic_reshaper-2.1.3-py3-none-any.whl (from trdg) has invalid metadata: Expected matching RIGHT_PARENTHESIS for LEFT_PARENTHESIS, after version specifier\n",
            "    fonttools (>=3.0<4.0) ; (python_version < \"3\") and extra == 'with-fonttools'\n",
            "              ~~~~~~^\n",
            "Please use pip<24.1 if you need to use this version.\u001b[0m\u001b[33m\n",
            "\u001b[0mINFO: pip is looking at multiple versions of trdg to determine which version is compatible with other requirements. This could take a while.\n",
            "Collecting trdg\n",
            "  Downloading trdg-1.7.0-py3-none-any.whl.metadata (9.0 kB)\n",
            "Collecting numpy<1.17,>=1.16.4 (from trdg)\n",
            "  Downloading numpy-1.16.6.zip (5.1 MB)\n",
            "\u001b[2K     \u001b[90m━━━━━━━━━━━━━━━━━━━━━━━━━━━━━━━━━━━━━━━━\u001b[0m \u001b[32m5.1/5.1 MB\u001b[0m \u001b[31m107.1 MB/s\u001b[0m eta \u001b[36m0:00:00\u001b[0m\n",
            "\u001b[?25h  Preparing metadata (setup.py) ... \u001b[?25l\u001b[?25hdone\n",
            "Requirement already satisfied: beautifulsoup4>=4.6.0 in /usr/local/lib/python3.12/dist-packages (from trdg) (4.13.5)\n",
            "Requirement already satisfied: soupsieve>1.2 in /usr/local/lib/python3.12/dist-packages (from beautifulsoup4>=4.6.0->trdg) (2.8)\n",
            "Requirement already satisfied: typing-extensions>=4.0.0 in /usr/local/lib/python3.12/dist-packages (from beautifulsoup4>=4.6.0->trdg) (4.15.0)\n",
            "INFO: pip is looking at multiple versions of opencv-python to determine which version is compatible with other requirements. This could take a while.\n",
            "Collecting opencv-python>=4.2.0.32 (from trdg)\n",
            "  Downloading opencv_python-4.11.0.86-cp37-abi3-manylinux_2_17_x86_64.manylinux2014_x86_64.whl.metadata (20 kB)\n",
            "  Downloading opencv_python-4.10.0.84-cp37-abi3-manylinux_2_17_x86_64.manylinux2014_x86_64.whl.metadata (20 kB)\n",
            "  Downloading opencv_python-4.10.0.82-cp37-abi3-manylinux_2_17_x86_64.manylinux2014_x86_64.whl.metadata (20 kB)\n",
            "  Downloading opencv_python-4.9.0.80-cp37-abi3-manylinux_2_17_x86_64.manylinux2014_x86_64.whl.metadata (20 kB)\n",
            "  Downloading opencv_python-4.8.1.78-cp37-abi3-manylinux_2_17_x86_64.manylinux2014_x86_64.whl.metadata (19 kB)\n",
            "  Downloading opencv_python-4.8.0.76-cp37-abi3-manylinux_2_17_x86_64.manylinux2014_x86_64.whl.metadata (19 kB)\n",
            "  Downloading opencv_python-4.8.0.74-cp37-abi3-manylinux_2_17_x86_64.manylinux2014_x86_64.whl.metadata (19 kB)\n",
            "INFO: pip is still looking at multiple versions of opencv-python to determine which version is compatible with other requirements. This could take a while.\n",
            "  Downloading opencv_python-4.7.0.72-cp37-abi3-manylinux_2_17_x86_64.manylinux2014_x86_64.whl.metadata (18 kB)\n",
            "  Downloading opencv_python-4.6.0.66-cp36-abi3-manylinux_2_17_x86_64.manylinux2014_x86_64.whl.metadata (18 kB)\n",
            "  Downloading opencv_python-4.5.5.64-cp36-abi3-manylinux_2_17_x86_64.manylinux2014_x86_64.whl.metadata (18 kB)\n",
            "  Downloading opencv-python-4.5.4.60.tar.gz (89.8 MB)\n",
            "\u001b[2K     \u001b[90m━━━━━━━━━━━━━━━━━━━━━━━━━━━━━━━━━━━━━━━━\u001b[0m \u001b[32m89.8/89.8 MB\u001b[0m \u001b[31m8.8 MB/s\u001b[0m eta \u001b[36m0:00:00\u001b[0m\n",
            "\u001b[?25h  \u001b[1;31merror\u001b[0m: \u001b[1msubprocess-exited-with-error\u001b[0m\n",
            "  \n",
            "  \u001b[31m×\u001b[0m \u001b[32mpip subprocess to install build dependencies\u001b[0m did not run successfully.\n",
            "  \u001b[31m│\u001b[0m exit code: \u001b[1;36m1\u001b[0m\n",
            "  \u001b[31m╰─>\u001b[0m See above for output.\n",
            "  \n",
            "  \u001b[1;35mnote\u001b[0m: This error originates from a subprocess, and is likely not a problem with pip.\n",
            "  Installing build dependencies ... \u001b[?25l\u001b[?25herror\n",
            "\u001b[1;31merror\u001b[0m: \u001b[1msubprocess-exited-with-error\u001b[0m\n",
            "\n",
            "\u001b[31m×\u001b[0m \u001b[32mpip subprocess to install build dependencies\u001b[0m did not run successfully.\n",
            "\u001b[31m│\u001b[0m exit code: \u001b[1;36m1\u001b[0m\n",
            "\u001b[31m╰─>\u001b[0m See above for output.\n",
            "\n",
            "\u001b[1;35mnote\u001b[0m: This error originates from a subprocess, and is likely not a problem with pip.\n"
          ]
        }
      ]
    },
    {
      "cell_type": "code",
      "metadata": {
        "colab": {
          "base_uri": "https://localhost:8080/"
        },
        "id": "d013a780",
        "outputId": "7b046d66-e993-4c9a-8197-3353a08588d5"
      },
      "source": [
        "!pip install trdg opencv-python==4.5.5.64"
      ],
      "execution_count": null,
      "outputs": [
        {
          "output_type": "stream",
          "name": "stdout",
          "text": [
            "Collecting trdg\n",
            "  Using cached trdg-1.8.0-py3-none-any.whl.metadata (9.0 kB)\n",
            "Collecting opencv-python==4.5.5.64\n",
            "  Using cached opencv_python-4.5.5.64-cp36-abi3-manylinux_2_17_x86_64.manylinux2014_x86_64.whl.metadata (18 kB)\n",
            "Requirement already satisfied: numpy>=1.21.2 in /usr/local/lib/python3.12/dist-packages (from opencv-python==4.5.5.64) (2.0.2)\n",
            "Requirement already satisfied: pillow>=7.0.0 in /usr/local/lib/python3.12/dist-packages (from trdg) (11.3.0)\n",
            "Requirement already satisfied: requests>=2.20.0 in /usr/local/lib/python3.12/dist-packages (from trdg) (2.32.4)\n",
            "Requirement already satisfied: tqdm>=4.23.0 in /usr/local/lib/python3.12/dist-packages (from trdg) (4.67.1)\n",
            "Collecting wikipedia>=1.4.0 (from trdg)\n",
            "  Using cached wikipedia-1.4.0.tar.gz (27 kB)\n",
            "  Preparing metadata (setup.py) ... \u001b[?25l\u001b[?25hdone\n",
            "Collecting diffimg==0.2.3 (from trdg)\n",
            "  Using cached diffimg-0.2.3.tar.gz (4.1 kB)\n",
            "  Preparing metadata (setup.py) ... \u001b[?25l\u001b[?25hdone\n",
            "Collecting arabic-reshaper==2.1.3 (from trdg)\n",
            "  Using cached arabic_reshaper-2.1.3-py3-none-any.whl.metadata (12 kB)\n",
            "\u001b[33mWARNING: Ignoring version 2.1.3 of arabic-reshaper since it has invalid metadata:\n",
            "Requested arabic-reshaper==2.1.3 from https://files.pythonhosted.org/packages/47/27/7b9b824f5342d8ee180027333f2e15842ea36f5bc2d3d24a4e6bb31fb596/arabic_reshaper-2.1.3-py3-none-any.whl (from trdg) has invalid metadata: Expected matching RIGHT_PARENTHESIS for LEFT_PARENTHESIS, after version specifier\n",
            "    fonttools (>=3.0<4.0) ; (python_version < \"3\") and extra == 'with-fonttools'\n",
            "              ~~~~~~^\n",
            "Please use pip<24.1 if you need to use this version.\u001b[0m\u001b[33m\n",
            "\u001b[0mINFO: pip is looking at multiple versions of trdg to determine which version is compatible with other requirements. This could take a while.\n",
            "Collecting trdg\n",
            "  Using cached trdg-1.7.0-py3-none-any.whl.metadata (9.0 kB)\n",
            "  Downloading trdg-1.6.0-py3-none-any.whl.metadata (8.7 kB)\n",
            "Collecting pillow==7.0.0 (from trdg)\n",
            "  Downloading Pillow-7.0.0.tar.gz (38.2 MB)\n",
            "\u001b[2K     \u001b[90m━━━━━━━━━━━━━━━━━━━━━━━━━━━━━━━━━━━━━━━━\u001b[0m \u001b[32m38.2/38.2 MB\u001b[0m \u001b[31m37.3 MB/s\u001b[0m eta \u001b[36m0:00:00\u001b[0m\n",
            "\u001b[?25h  Preparing metadata (setup.py) ... \u001b[?25l\u001b[?25hdone\n",
            "Requirement already satisfied: beautifulsoup4>=4.6.0 in /usr/local/lib/python3.12/dist-packages (from trdg) (4.13.5)\n",
            "Requirement already satisfied: soupsieve>1.2 in /usr/local/lib/python3.12/dist-packages (from beautifulsoup4>=4.6.0->trdg) (2.8)\n",
            "Requirement already satisfied: typing-extensions>=4.0.0 in /usr/local/lib/python3.12/dist-packages (from beautifulsoup4>=4.6.0->trdg) (4.15.0)\n",
            "Requirement already satisfied: charset_normalizer<4,>=2 in /usr/local/lib/python3.12/dist-packages (from requests>=2.20.0->trdg) (3.4.3)\n",
            "Requirement already satisfied: idna<4,>=2.5 in /usr/local/lib/python3.12/dist-packages (from requests>=2.20.0->trdg) (3.10)\n",
            "Requirement already satisfied: urllib3<3,>=1.21.1 in /usr/local/lib/python3.12/dist-packages (from requests>=2.20.0->trdg) (2.5.0)\n",
            "Requirement already satisfied: certifi>=2017.4.17 in /usr/local/lib/python3.12/dist-packages (from requests>=2.20.0->trdg) (2025.8.3)\n",
            "Downloading opencv_python-4.5.5.64-cp36-abi3-manylinux_2_17_x86_64.manylinux2014_x86_64.whl (60.5 MB)\n",
            "\u001b[2K   \u001b[90m━━━━━━━━━━━━━━━━━━━━━━━━━━━━━━━━━━━━━━━━\u001b[0m \u001b[32m60.5/60.5 MB\u001b[0m \u001b[31m10.6 MB/s\u001b[0m eta \u001b[36m0:00:00\u001b[0m\n",
            "\u001b[?25hDownloading trdg-1.6.0-py3-none-any.whl (49.9 MB)\n",
            "\u001b[2K   \u001b[90m━━━━━━━━━━━━━━━━━━━━━━━━━━━━━━━━━━━━━━━━\u001b[0m \u001b[32m49.9/49.9 MB\u001b[0m \u001b[31m13.6 MB/s\u001b[0m eta \u001b[36m0:00:00\u001b[0m\n",
            "\u001b[?25hBuilding wheels for collected packages: diffimg, pillow\n",
            "  Building wheel for diffimg (setup.py) ... \u001b[?25l\u001b[?25hdone\n",
            "  Created wheel for diffimg: filename=diffimg-0.2.3-py3-none-any.whl size=4018 sha256=bcddf0e68420dfab6628dfe55b3ef842afbbd4a541bcfdec79cbc0aa3f81fa69\n",
            "  Stored in directory: /root/.cache/pip/wheels/23/9c/12/2a68ce2e7aeebc9dd47b8378cf0354a038e8600c9b6a28ba88\n",
            "  Building wheel for pillow (setup.py) ... \u001b[?25l\u001b[?25hdone\n",
            "  Created wheel for pillow: filename=Pillow-7.0.0-cp312-cp312-linux_x86_64.whl size=1138074 sha256=a4c5b453665ad8fe7eac15230874ced90e51231631052e3c60b6e35ca804ffee\n",
            "  Stored in directory: /root/.cache/pip/wheels/04/de/dd/1bdc0fd1d2d0b084eac0ddcb2f251fdc0d91609e3e436bb8a7\n",
            "Successfully built diffimg pillow\n",
            "Installing collected packages: pillow, opencv-python, diffimg, trdg\n",
            "  Attempting uninstall: pillow\n",
            "    Found existing installation: pillow 11.3.0\n",
            "    Uninstalling pillow-11.3.0:\n",
            "      Successfully uninstalled pillow-11.3.0\n",
            "  Attempting uninstall: opencv-python\n",
            "    Found existing installation: opencv-python 4.12.0.88\n",
            "    Uninstalling opencv-python-4.12.0.88:\n",
            "      Successfully uninstalled opencv-python-4.12.0.88\n",
            "\u001b[31mERROR: pip's dependency resolver does not currently take into account all the packages that are installed. This behaviour is the source of the following dependency conflicts.\n",
            "matplotlib 3.10.0 requires pillow>=8, but you have pillow 7.0.0 which is incompatible.\n",
            "gradio 5.46.0 requires pillow<12.0,>=8.0, but you have pillow 7.0.0 which is incompatible.\n",
            "scikit-image 0.25.2 requires pillow>=10.1, but you have pillow 7.0.0 which is incompatible.\n",
            "torchtune 0.6.1 requires Pillow>=9.4.0, but you have pillow 7.0.0 which is incompatible.\n",
            "bokeh 3.7.3 requires pillow>=7.1.0, but you have pillow 7.0.0 which is incompatible.\n",
            "imageio 2.37.0 requires pillow>=8.3.2, but you have pillow 7.0.0 which is incompatible.\n",
            "fastai 2.8.4 requires pillow>=9.0.0, but you have pillow 7.0.0 which is incompatible.\u001b[0m\u001b[31m\n",
            "\u001b[0mSuccessfully installed diffimg-0.2.3 opencv-python-4.5.5.64 pillow-7.0.0 trdg-1.6.0\n"
          ]
        }
      ]
    },
    {
      "cell_type": "code",
      "metadata": {
        "colab": {
          "base_uri": "https://localhost:8080/"
        },
        "id": "45dd8aaf",
        "outputId": "88b2497b-9464-40c3-a9d7-59df02beede1"
      },
      "source": [
        "file_path = '/content/drive/MyDrive/imageProcessing/arm_text.txt'\n",
        "try:\n",
        "    with open(file_path, 'r', encoding='utf-8') as f:\n",
        "        text = f.read()\n",
        "        words = text.split()\n",
        "        word_count = len(words)\n",
        "        print(f\"The number of words in {file_path} is: {word_count}\")\n",
        "except FileNotFoundError:\n",
        "    print(f\"Error: The file {file_path} was not found.\")\n",
        "except Exception as e:\n",
        "    print(f\"An error occurred: {e}\")"
      ],
      "execution_count": 6,
      "outputs": [
        {
          "output_type": "stream",
          "name": "stdout",
          "text": [
            "The number of words in /content/drive/MyDrive/imageProcessing/arm_text.txt is: 50774\n"
          ]
        }
      ]
    },
    {
      "cell_type": "code",
      "metadata": {
        "colab": {
          "base_uri": "https://localhost:8080/"
        },
        "id": "c45516c8",
        "outputId": "0cfeb63f-3d10-453c-fc12-0ad0499371cc"
      },
      "source": [
        "!pip install opencv-python trdg"
      ],
      "execution_count": 7,
      "outputs": [
        {
          "output_type": "stream",
          "name": "stdout",
          "text": [
            "Requirement already satisfied: opencv-python in /usr/local/lib/python3.12/dist-packages (4.12.0.88)\n",
            "Collecting trdg\n",
            "  Downloading trdg-1.8.0-py3-none-any.whl.metadata (9.0 kB)\n",
            "Requirement already satisfied: numpy<2.3.0,>=2 in /usr/local/lib/python3.12/dist-packages (from opencv-python) (2.0.2)\n",
            "Requirement already satisfied: pillow>=7.0.0 in /usr/local/lib/python3.12/dist-packages (from trdg) (11.3.0)\n",
            "Requirement already satisfied: requests>=2.20.0 in /usr/local/lib/python3.12/dist-packages (from trdg) (2.32.4)\n",
            "Requirement already satisfied: tqdm>=4.23.0 in /usr/local/lib/python3.12/dist-packages (from trdg) (4.67.1)\n",
            "Collecting wikipedia>=1.4.0 (from trdg)\n",
            "  Downloading wikipedia-1.4.0.tar.gz (27 kB)\n",
            "  Preparing metadata (setup.py) ... \u001b[?25l\u001b[?25hdone\n",
            "Collecting diffimg==0.2.3 (from trdg)\n",
            "  Downloading diffimg-0.2.3.tar.gz (4.1 kB)\n",
            "  Preparing metadata (setup.py) ... \u001b[?25l\u001b[?25hdone\n",
            "Collecting arabic-reshaper==2.1.3 (from trdg)\n",
            "  Downloading arabic_reshaper-2.1.3-py3-none-any.whl.metadata (12 kB)\n",
            "\u001b[33mWARNING: Ignoring version 2.1.3 of arabic-reshaper since it has invalid metadata:\n",
            "Requested arabic-reshaper==2.1.3 from https://files.pythonhosted.org/packages/47/27/7b9b824f5342d8ee180027333f2e15842ea36f5bc2d3d24a4e6bb31fb596/arabic_reshaper-2.1.3-py3-none-any.whl (from trdg) has invalid metadata: Expected matching RIGHT_PARENTHESIS for LEFT_PARENTHESIS, after version specifier\n",
            "    fonttools (>=3.0<4.0) ; (python_version < \"3\") and extra == 'with-fonttools'\n",
            "              ~~~~~~^\n",
            "Please use pip<24.1 if you need to use this version.\u001b[0m\u001b[33m\n",
            "\u001b[0mINFO: pip is looking at multiple versions of trdg to determine which version is compatible with other requirements. This could take a while.\n",
            "Collecting trdg\n",
            "  Downloading trdg-1.7.0-py3-none-any.whl.metadata (9.0 kB)\n",
            "  Downloading trdg-1.6.0-py3-none-any.whl.metadata (8.7 kB)\n",
            "Collecting pillow==7.0.0 (from trdg)\n",
            "  Downloading Pillow-7.0.0.tar.gz (38.2 MB)\n",
            "\u001b[2K     \u001b[90m━━━━━━━━━━━━━━━━━━━━━━━━━━━━━━━━━━━━━━━━\u001b[0m \u001b[32m38.2/38.2 MB\u001b[0m \u001b[31m58.6 MB/s\u001b[0m eta \u001b[36m0:00:00\u001b[0m\n",
            "\u001b[?25h  Preparing metadata (setup.py) ... \u001b[?25l\u001b[?25hdone\n",
            "Requirement already satisfied: beautifulsoup4>=4.6.0 in /usr/local/lib/python3.12/dist-packages (from trdg) (4.13.5)\n",
            "Requirement already satisfied: soupsieve>1.2 in /usr/local/lib/python3.12/dist-packages (from beautifulsoup4>=4.6.0->trdg) (2.8)\n",
            "Requirement already satisfied: typing-extensions>=4.0.0 in /usr/local/lib/python3.12/dist-packages (from beautifulsoup4>=4.6.0->trdg) (4.15.0)\n",
            "Requirement already satisfied: charset_normalizer<4,>=2 in /usr/local/lib/python3.12/dist-packages (from requests>=2.20.0->trdg) (3.4.3)\n",
            "Requirement already satisfied: idna<4,>=2.5 in /usr/local/lib/python3.12/dist-packages (from requests>=2.20.0->trdg) (3.10)\n",
            "Requirement already satisfied: urllib3<3,>=1.21.1 in /usr/local/lib/python3.12/dist-packages (from requests>=2.20.0->trdg) (2.5.0)\n",
            "Requirement already satisfied: certifi>=2017.4.17 in /usr/local/lib/python3.12/dist-packages (from requests>=2.20.0->trdg) (2025.8.3)\n",
            "Downloading trdg-1.6.0-py3-none-any.whl (49.9 MB)\n",
            "\u001b[2K   \u001b[90m━━━━━━━━━━━━━━━━━━━━━━━━━━━━━━━━━━━━━━━━\u001b[0m \u001b[32m49.9/49.9 MB\u001b[0m \u001b[31m10.6 MB/s\u001b[0m eta \u001b[36m0:00:00\u001b[0m\n",
            "\u001b[?25hBuilding wheels for collected packages: diffimg, pillow\n",
            "  Building wheel for diffimg (setup.py) ... \u001b[?25l\u001b[?25hdone\n",
            "  Created wheel for diffimg: filename=diffimg-0.2.3-py3-none-any.whl size=4018 sha256=70d5926fc9a24cda776310d3d196f2a4a4d330481ce067b7ecbcc7c738651647\n",
            "  Stored in directory: /root/.cache/pip/wheels/23/9c/12/2a68ce2e7aeebc9dd47b8378cf0354a038e8600c9b6a28ba88\n",
            "  Building wheel for pillow (setup.py) ... \u001b[?25l\u001b[?25hdone\n",
            "  Created wheel for pillow: filename=Pillow-7.0.0-cp312-cp312-linux_x86_64.whl size=1138086 sha256=a63eba8c4873baeae55843a197c0294277760ab571bd77d475f46c29fc5ef68d\n",
            "  Stored in directory: /root/.cache/pip/wheels/04/de/dd/1bdc0fd1d2d0b084eac0ddcb2f251fdc0d91609e3e436bb8a7\n",
            "Successfully built diffimg pillow\n",
            "Installing collected packages: pillow, diffimg, trdg\n",
            "  Attempting uninstall: pillow\n",
            "    Found existing installation: pillow 11.3.0\n",
            "    Uninstalling pillow-11.3.0:\n",
            "      Successfully uninstalled pillow-11.3.0\n",
            "\u001b[31mERROR: pip's dependency resolver does not currently take into account all the packages that are installed. This behaviour is the source of the following dependency conflicts.\n",
            "matplotlib 3.10.0 requires pillow>=8, but you have pillow 7.0.0 which is incompatible.\n",
            "gradio 5.46.0 requires pillow<12.0,>=8.0, but you have pillow 7.0.0 which is incompatible.\n",
            "scikit-image 0.25.2 requires pillow>=10.1, but you have pillow 7.0.0 which is incompatible.\n",
            "torchtune 0.6.1 requires Pillow>=9.4.0, but you have pillow 7.0.0 which is incompatible.\n",
            "bokeh 3.7.3 requires pillow>=7.1.0, but you have pillow 7.0.0 which is incompatible.\n",
            "imageio 2.37.0 requires pillow>=8.3.2, but you have pillow 7.0.0 which is incompatible.\n",
            "fastai 2.8.4 requires pillow>=9.0.0, but you have pillow 7.0.0 which is incompatible.\u001b[0m\u001b[31m\n",
            "\u001b[0mSuccessfully installed diffimg-0.2.3 pillow-7.0.0 trdg-1.6.0\n"
          ]
        }
      ]
    },
    {
      "cell_type": "code",
      "source": [],
      "metadata": {
        "id": "TeW7hC7XEc1O"
      },
      "execution_count": null,
      "outputs": []
    },
    {
      "cell_type": "markdown",
      "metadata": {
        "id": "f01c72fa"
      },
      "source": [
        "# Task\n",
        "Write code to keep only the Armenian language word and letter and delete all other language or symbols or number except space , then save the words without repetition in text file ,every word in line  then count the words in the file using the file \"arm_text.txt\"."
      ]
    },
    {
      "cell_type": "markdown",
      "metadata": {
        "id": "adc3659a"
      },
      "source": [
        "## Load the text\n",
        "\n",
        "### Subtask:\n",
        "Read the content from `arm_text.txt`.\n"
      ]
    },
    {
      "cell_type": "markdown",
      "metadata": {
        "id": "702807c7"
      },
      "source": [
        "**Reasoning**:\n",
        "Define the file path, open the file, read its content, and print the first 500 characters as instructed.\n",
        "\n"
      ]
    },
    {
      "cell_type": "code",
      "metadata": {
        "colab": {
          "base_uri": "https://localhost:8080/"
        },
        "id": "9b646eeb",
        "outputId": "6002b100-294e-4a8f-cab9-4a4cfe3afca9"
      },
      "source": [
        "file_path = '/content/drive/MyDrive/imageProcessing/arm_text.txt'\n",
        "with open(file_path, 'r', encoding='utf-8') as f:\n",
        "    text = f.read()\n",
        "\n",
        "print(text[:500])"
      ],
      "execution_count": 8,
      "outputs": [
        {
          "output_type": "stream",
          "name": "stdout",
          "text": [
            "Կինն արաբական մշակույթում, արաբական հասարակության մեջ կնոջ դիրքի վերաբերյալ ուսումնասիրությունների մի շարք, ինչպես նաև սոցիալական հաստատությունների հետ կնոջ փոխգործակցությունը կարգավորող կանոնների և նորմերի համակարգ։ Ժամանակակից գնահատականներով՝ կանայք արաբական հասարակության մեջ առավել խտրական դասակարգն են մշակութային և կրոնական համոզմունքների պատճառով, որոնք հաճախ կարող են արտացոլվել արաբական աշխարհի երկրների օրենքներում՝ ազդելով քրեական արդարադատության, տնտեսության, կրթության և առողջապահության\n"
          ]
        }
      ]
    },
    {
      "cell_type": "code",
      "metadata": {
        "colab": {
          "base_uri": "https://localhost:8080/"
        },
        "id": "7e74b253",
        "outputId": "cc595f7c-cab8-44b4-ec9f-6cceeedaf239"
      },
      "source": [
        "!ls /content/drive/MyDrive/imageProcessing/"
      ],
      "execution_count": 9,
      "outputs": [
        {
          "output_type": "stream",
          "name": "stdout",
          "text": [
            "arm_text.txt  fonts\n"
          ]
        }
      ]
    },
    {
      "cell_type": "markdown",
      "metadata": {
        "id": "90eedf2e"
      },
      "source": [
        "## Save unique words to a file\n",
        "\n",
        "### Subtask:\n",
        "Write each unique word to a new line in a text file."
      ]
    },
    {
      "cell_type": "markdown",
      "metadata": {
        "id": "32fd5ff0"
      },
      "source": [
        "**Reasoning**:\n",
        "Write each unique word from the `unique_words` list to a new line in the output file, ensuring UTF-8 encoding is used."
      ]
    },
    {
      "cell_type": "code",
      "metadata": {
        "colab": {
          "base_uri": "https://localhost:8080/"
        },
        "id": "53a4aed1",
        "outputId": "03a8c1e3-fed6-4eff-a255-de9245b09996"
      },
      "source": [
        "output_file_path = '/content/drive/MyDrive/imageProcessing/unique_armenian_words.txt'\n",
        "with open(output_file_path, 'w', encoding='utf-8') as f:\n",
        "    for word in unique_words:\n",
        "        f.write(word + '\\n')\n",
        "\n",
        "print(f\"Unique words saved to {output_file_path}\")"
      ],
      "execution_count": 14,
      "outputs": [
        {
          "output_type": "stream",
          "name": "stdout",
          "text": [
            "Unique words saved to /content/drive/MyDrive/imageProcessing/unique_armenian_words.txt\n"
          ]
        }
      ]
    },
    {
      "cell_type": "markdown",
      "metadata": {
        "id": "00a483a6"
      },
      "source": [
        "## Clean the text\n",
        "\n",
        "### Subtask:\n",
        "Remove non-Armenian characters, symbols, and numbers from the text, keeping only Armenian letters and spaces.\n"
      ]
    },
    {
      "cell_type": "markdown",
      "metadata": {
        "id": "673938c6"
      },
      "source": [
        "**Reasoning**:\n",
        "Import the `re` module and define a regular expression pattern to remove non-Armenian characters, then apply the pattern to clean the text and print the first 500 characters.\n",
        "\n"
      ]
    },
    {
      "cell_type": "code",
      "metadata": {
        "colab": {
          "base_uri": "https://localhost:8080/"
        },
        "id": "406b3d23",
        "outputId": "cf6b7b0c-5b9b-4fdf-e3cb-624d8049b356"
      },
      "source": [
        "import re\n",
        "\n",
        "# Define a regular expression pattern to match non-Armenian letters and non-space characters\n",
        "# Armenian Unicode range: Ա-Ֆ (U+0531 - U+0556), ա-ֆ (U+0561 - U+0586)\n",
        "pattern = r'[^\\u0531-\\u0556\\u0561-\\u0586 ]'\n",
        "\n",
        "# Use re.sub() to replace all non-Armenian characters and symbols with an empty string\n",
        "text = re.sub(pattern, '', text)\n",
        "\n",
        "# Print the first 500 characters of the cleaned text\n",
        "print(text[:500])"
      ],
      "execution_count": 11,
      "outputs": [
        {
          "output_type": "stream",
          "name": "stdout",
          "text": [
            "Կինն արաբական մշակույթում արաբական հասարակության մեջ կնոջ դիրքի վերաբերյալ ուսումնասիրությունների մի շարք ինչպես նա սոցիալական հաստատությունների հետ կնոջ փոխգործակցությունը կարգավորող կանոնների  նորմերի համակարգ Ժամանակակից գնահատականներով կանայք արաբական հասարակության մեջ առավել խտրական դասակարգն են մշակութային  կրոնական համոզմունքների պատճառով որոնք հաճախ կարող են արտացոլվել արաբական աշխարհի երկրների օրենքներում ազդելով քրեական արդարադատության տնտեսության կրթության  առողջապահության վրա Արաբ կա\n"
          ]
        }
      ]
    },
    {
      "cell_type": "markdown",
      "metadata": {
        "id": "20639d3d"
      },
      "source": [
        "## Extract unique words\n",
        "\n",
        "### Subtask:\n",
        "Split the cleaned text into words and get the unique words.\n"
      ]
    },
    {
      "cell_type": "markdown",
      "metadata": {
        "id": "03642b7a"
      },
      "source": [
        "**Reasoning**:\n",
        "Split the cleaned text into words, get the unique words using a set, and convert it back to a list as instructed.\n",
        "\n"
      ]
    },
    {
      "cell_type": "code",
      "metadata": {
        "colab": {
          "base_uri": "https://localhost:8080/"
        },
        "id": "aa752647",
        "outputId": "a77e64ad-f458-406b-b4a6-65b5fb2357af"
      },
      "source": [
        "words = text.split()\n",
        "unique_words_set = set(words)\n",
        "unique_words = list(unique_words_set)\n",
        "\n",
        "print(f\"Number of unique words: {len(unique_words)}\")\n",
        "print(unique_words[:20])"
      ],
      "execution_count": 12,
      "outputs": [
        {
          "output_type": "stream",
          "name": "stdout",
          "text": [
            "Number of unique words: 12743\n",
            "['Շարժումը', 'առօրեական', 'օրենքները', 'երկրորդն', 'աշխատեն', 'Բեռլինի', 'որից', 'գովաբանելու', 'պատերազմներում', 'մասինԿլիմաՀիմնական', 'ասորիները', 'բուդդայական', 'պատահարից', 'արտագաղթի', 'ցուցակներում', 'խստությունից', 'վատացան', 'Վազգեն', 'տեղակալ', 'զոհեր']\n"
          ]
        }
      ]
    },
    {
      "cell_type": "markdown",
      "metadata": {
        "id": "58471338"
      },
      "source": [
        "## Save unique words to a file\n",
        "\n",
        "### Subtask:\n",
        "Write each unique word to a new line in a text file.\n"
      ]
    },
    {
      "cell_type": "markdown",
      "metadata": {
        "id": "33bcb021"
      },
      "source": [
        "**Reasoning**:\n",
        "Write each unique word from the `unique_words` list to a new line in the output file, ensuring UTF-8 encoding is used.\n",
        "\n"
      ]
    },
    {
      "cell_type": "code",
      "metadata": {
        "colab": {
          "base_uri": "https://localhost:8080/"
        },
        "id": "765a9bee",
        "outputId": "89c42d5b-c1c0-4171-edcc-fe79dcb4b7e1"
      },
      "source": [
        "output_file_path = '/content/drive/MyDrive/imageProcessing/unique_armenian_words.txt'\n",
        "with open(output_file_path, 'w', encoding='utf-8') as f:\n",
        "    for word in unique_words:\n",
        "        f.write(word + '\\n')\n",
        "\n",
        "print(f\"Unique words saved to {output_file_path}\")"
      ],
      "execution_count": 15,
      "outputs": [
        {
          "output_type": "stream",
          "name": "stdout",
          "text": [
            "Unique words saved to /content/drive/MyDrive/imageProcessing/unique_armenian_words.txt\n"
          ]
        }
      ]
    },
    {
      "cell_type": "markdown",
      "metadata": {
        "id": "e0f3f8b5"
      },
      "source": [
        "## Count words in the new file\n",
        "\n",
        "### Subtask:\n",
        "Read the new file and count the number of words (lines).\n"
      ]
    },
    {
      "cell_type": "markdown",
      "metadata": {
        "id": "f1f93b41"
      },
      "source": [
        "**Reasoning**:\n",
        "Read the unique words file and count the lines to get the number of unique words.\n",
        "\n"
      ]
    },
    {
      "cell_type": "code",
      "metadata": {
        "colab": {
          "base_uri": "https://localhost:8080/"
        },
        "id": "d3ba3916",
        "outputId": "24605a57-e1d1-40b6-bc92-4fada679b0c0"
      },
      "source": [
        "file_path = '/content/drive/MyDrive/imageProcessing/unique_armenian_words.txt'\n",
        "with open(file_path, 'r', encoding='utf-8') as f:\n",
        "  lines = f.readlines()\n",
        "\n",
        "unique_word_count = len(lines)\n",
        "print(f\"The number of unique words in {file_path} is: {unique_word_count}\")"
      ],
      "execution_count": 16,
      "outputs": [
        {
          "output_type": "stream",
          "name": "stdout",
          "text": [
            "The number of unique words in /content/drive/MyDrive/imageProcessing/unique_armenian_words.txt is: 12743\n"
          ]
        }
      ]
    },
    {
      "cell_type": "markdown",
      "metadata": {
        "id": "358dcafc"
      },
      "source": [
        "## Summary:\n",
        "\n",
        "### Data Analysis Key Findings\n",
        "\n",
        "*   The original text file `arm_text.txt` was successfully read and contained Armenian text.\n",
        "*   Non-Armenian characters, symbols, and numbers were effectively removed from the text, leaving only Armenian letters and spaces.\n",
        "*   The cleaned text was split into words, and duplicate words were removed, resulting in a set of 12743 unique Armenian words.\n",
        "*   These unique words were successfully saved to a new file named `unique_armenian_words.txt`, with each word on a separate line.\n",
        "*   Reading the `unique_armenian_words.txt` file confirmed that it contains 12743 lines, corresponding to the count of unique words.\n",
        "\n",
        "### Insights or Next Steps\n",
        "\n",
        "*   The process successfully extracted and saved unique Armenian words from the provided text.\n",
        "*   This list of unique words could be used for various natural language processing tasks, such as building a vocabulary or analyzing word frequency.\n"
      ]
    },
    {
      "cell_type": "code",
      "source": [
        "!ls /content/"
      ],
      "metadata": {
        "colab": {
          "base_uri": "https://localhost:8080/"
        },
        "id": "DqTxOJ99tsbY",
        "outputId": "2888dd2f-1241-4545-ad68-ef2b71aa0e4b"
      },
      "execution_count": null,
      "outputs": [
        {
          "output_type": "stream",
          "name": "stdout",
          "text": [
            "drive  sample_data\n"
          ]
        }
      ]
    },
    {
      "cell_type": "code",
      "source": [
        "from google.colab import drive\n",
        "drive.mount('/content/drive')\n"
      ],
      "metadata": {
        "colab": {
          "base_uri": "https://localhost:8080/"
        },
        "id": "nEJJ9nn6vST6",
        "outputId": "06234aeb-ed4a-4823-fb4c-c95254e794b0"
      },
      "execution_count": 3,
      "outputs": [
        {
          "output_type": "stream",
          "name": "stdout",
          "text": [
            "Mounted at /content/drive\n"
          ]
        }
      ]
    },
    {
      "cell_type": "code",
      "source": [
        "import os\n",
        "project_path = \"/content/drive/MyDrive/imageProcessing\"\n",
        "os.makedirs(project_path, exist_ok=True)\n"
      ],
      "metadata": {
        "id": "172ZciGIwlI5"
      },
      "execution_count": 4,
      "outputs": []
    },
    {
      "cell_type": "code",
      "source": [
        "fonts_path = f\"{project_path}/fonts\"\n",
        "os.makedirs(fonts_path, exist_ok=True)\n"
      ],
      "metadata": {
        "id": "wkMzRvWAw5fO"
      },
      "execution_count": 5,
      "outputs": []
    },
    {
      "cell_type": "code",
      "source": [
        "!ls /content/drive/MyDrive/imageProcessing/fonts\n"
      ],
      "metadata": {
        "colab": {
          "base_uri": "https://localhost:8080/"
        },
        "id": "UgS5pTrExvjn",
        "outputId": "f320aecf-3888-4060-af39-47555fb50276"
      },
      "execution_count": 6,
      "outputs": [
        {
          "output_type": "stream",
          "name": "stdout",
          "text": [
            "NotoSansArmenian-Black.ttf\n",
            "NotoSansArmenian-Bold.ttf\n",
            "NotoSansArmenian-CondensedBlack.ttf\n",
            "NotoSansArmenian-CondensedBold.ttf\n",
            "NotoSansArmenian-CondensedExtraBold.ttf\n",
            "NotoSansArmenian-CondensedExtraLight.ttf\n",
            "NotoSansArmenian-CondensedLight.ttf\n",
            "NotoSansArmenian-CondensedMedium.ttf\n",
            "NotoSansArmenian-CondensedSemiBold.ttf\n",
            "NotoSansArmenian-CondensedThin.ttf\n",
            "NotoSansArmenian-Condensed.ttf\n",
            "NotoSansArmenian-ExtraBold.ttf\n",
            "NotoSansArmenian-ExtraCondensedBlack.ttf\n",
            "NotoSansArmenian-ExtraCondensedBold.ttf\n",
            "NotoSansArmenian-ExtraCondensedExtraBold.ttf\n",
            "NotoSansArmenian-ExtraCondensedExtraLight.ttf\n",
            "NotoSansArmenian-ExtraCondensedLight.ttf\n",
            "NotoSansArmenian-ExtraCondensedMedium.ttf\n",
            "NotoSansArmenian-ExtraCondensedSemiBold.ttf\n",
            "NotoSansArmenian-ExtraCondensedThin.ttf\n",
            "NotoSansArmenian-ExtraCondensed.ttf\n",
            "NotoSansArmenian-ExtraLight.ttf\n",
            "NotoSansArmenian-Light.ttf\n",
            "NotoSansArmenian-Medium.ttf\n",
            "NotoSansArmenian-Regular.ttf\n",
            "NotoSansArmenian-SemiBold.ttf\n",
            "NotoSansArmenian-SemiCondensedBlack.ttf\n",
            "NotoSansArmenian-SemiCondensedBold.ttf\n",
            "NotoSansArmenian-SemiCondensedExtraBold.ttf\n",
            "NotoSansArmenian-SemiCondensedExtraLight.ttf\n",
            "NotoSansArmenian-SemiCondensedLight.ttf\n",
            "NotoSansArmenian-SemiCondensedMedium.ttf\n",
            "NotoSansArmenian-SemiCondensedSemiBold.ttf\n",
            "NotoSansArmenian-SemiCondensedThin.ttf\n",
            "NotoSansArmenian-SemiCondensed.ttf\n",
            "NotoSansArmenian-Thin.ttf\n"
          ]
        }
      ]
    },
    {
      "cell_type": "code",
      "source": [],
      "metadata": {
        "id": "iyAN87ekxxAQ"
      },
      "execution_count": null,
      "outputs": []
    },
    {
      "cell_type": "markdown",
      "metadata": {
        "id": "29e4293b"
      },
      "source": [
        "# Task\n",
        "Generate synthetic images for the first 500 unique Armenian words from the file \"arm_text.txt\" using the fonts in \"/content/drive/MyDrive/imageProcessing/fonts\", varying size, color, background, noise, and font style, and save the images with their word labels in \"/content/drive/MyDrive/imageProcessing/\"."
      ]
    },
    {
      "cell_type": "markdown",
      "metadata": {
        "id": "5d5aa37e"
      },
      "source": [
        "## Load a subset of unique words\n",
        "\n",
        "### Subtask:\n",
        "Read only the first 500 unique Armenian words from the provided text file.\n"
      ]
    },
    {
      "cell_type": "markdown",
      "metadata": {
        "id": "65757003"
      },
      "source": [
        "**Reasoning**:\n",
        "Define the file path, open the file, read the lines, select the first 500, strip whitespace, and store in a list as instructed.\n",
        "\n"
      ]
    },
    {
      "cell_type": "code",
      "metadata": {
        "colab": {
          "base_uri": "https://localhost:8080/"
        },
        "id": "ae688ca2",
        "outputId": "05b12a82-ea9c-4d17-890a-596abdfda279"
      },
      "source": [
        "file_path = '/content/drive/MyDrive/imageProcessing/unique_armenian_words.txt'\n",
        "with open(file_path, 'r', encoding='utf-8') as f:\n",
        "    lines = f.readlines()\n",
        "\n",
        "words_subset = [line.strip() for line in lines[:500]]\n",
        "\n",
        "print(f\"Number of words in subset: {len(words_subset)}\")\n",
        "print(words_subset[:10])"
      ],
      "execution_count": 7,
      "outputs": [
        {
          "output_type": "stream",
          "name": "stdout",
          "text": [
            "Number of words in subset: 500\n",
            "['Շարժումը', 'առօրեական', 'օրենքները', 'երկրորդն', 'աշխատեն', 'Բեռլինի', 'որից', 'գովաբանելու', 'պատերազմներում', 'մասինԿլիմաՀիմնական']\n"
          ]
        }
      ]
    },
    {
      "cell_type": "markdown",
      "metadata": {
        "id": "9c64761e"
      },
      "source": [
        "## Define image generation parameters\n",
        "\n",
        "### Subtask:\n",
        "Set up the parameters for the `trdg` generator, including the list of the first 500 words, the path to the Armenian fonts, and the output directory.\n"
      ]
    },
    {
      "cell_type": "markdown",
      "metadata": {
        "id": "4b463ebe"
      },
      "source": [
        "**Reasoning**:\n",
        "Set up the parameters for the trdg generator by importing the necessary class, defining the paths, and instantiating the generator object as instructed.\n",
        "\n"
      ]
    },
    {
      "cell_type": "code",
      "metadata": {
        "colab": {
          "base_uri": "https://localhost:8080/",
          "height": 547
        },
        "id": "3a9bb822",
        "outputId": "39e1fa0a-721b-4f3a-fafd-f51c01c99c42"
      },
      "source": [
        "from trdg.generators import GeneratorFromStrings\n",
        "\n",
        "fonts_path = '/content/drive/MyDrive/imageProcessing/fonts'\n",
        "output_dir = '/content/drive/MyDrive/imageProcessing/'\n",
        "\n",
        "generator = GeneratorFromStrings(\n",
        "    strings=words_subset,\n",
        "    font_dir=fonts_path,\n",
        "    output_dir=output_dir\n",
        ")\n",
        "\n",
        "print(\"TRDG generator set up successfully.\")"
      ],
      "execution_count": 8,
      "outputs": [
        {
          "output_type": "error",
          "ename": "ImportError",
          "evalue": "cannot import name 'isDirectory' from 'PIL._util' (/usr/local/lib/python3.12/dist-packages/PIL/_util.py)",
          "traceback": [
            "\u001b[0;31m---------------------------------------------------------------------------\u001b[0m",
            "\u001b[0;31mImportError\u001b[0m                               Traceback (most recent call last)",
            "\u001b[0;32m/tmp/ipython-input-2060923561.py\u001b[0m in \u001b[0;36m<cell line: 0>\u001b[0;34m()\u001b[0m\n\u001b[0;32m----> 1\u001b[0;31m \u001b[0;32mfrom\u001b[0m \u001b[0mtrdg\u001b[0m\u001b[0;34m.\u001b[0m\u001b[0mgenerators\u001b[0m \u001b[0;32mimport\u001b[0m \u001b[0mGeneratorFromStrings\u001b[0m\u001b[0;34m\u001b[0m\u001b[0;34m\u001b[0m\u001b[0m\n\u001b[0m\u001b[1;32m      2\u001b[0m \u001b[0;34m\u001b[0m\u001b[0m\n\u001b[1;32m      3\u001b[0m \u001b[0mfonts_path\u001b[0m \u001b[0;34m=\u001b[0m \u001b[0;34m'/content/drive/MyDrive/imageProcessing/fonts'\u001b[0m\u001b[0;34m\u001b[0m\u001b[0;34m\u001b[0m\u001b[0m\n\u001b[1;32m      4\u001b[0m \u001b[0moutput_dir\u001b[0m \u001b[0;34m=\u001b[0m \u001b[0;34m'/content/drive/MyDrive/imageProcessing/'\u001b[0m\u001b[0;34m\u001b[0m\u001b[0;34m\u001b[0m\u001b[0m\n\u001b[1;32m      5\u001b[0m \u001b[0;34m\u001b[0m\u001b[0m\n",
            "\u001b[0;32m/usr/local/lib/python3.12/dist-packages/trdg/generators/__init__.py\u001b[0m in \u001b[0;36m<module>\u001b[0;34m\u001b[0m\n\u001b[0;32m----> 1\u001b[0;31m \u001b[0;32mfrom\u001b[0m \u001b[0mtrdg\u001b[0m\u001b[0;34m.\u001b[0m\u001b[0mgenerators\u001b[0m\u001b[0;34m.\u001b[0m\u001b[0mfrom_dict\u001b[0m \u001b[0;32mimport\u001b[0m \u001b[0mGeneratorFromDict\u001b[0m\u001b[0;34m\u001b[0m\u001b[0;34m\u001b[0m\u001b[0m\n\u001b[0m\u001b[1;32m      2\u001b[0m \u001b[0;32mfrom\u001b[0m \u001b[0mtrdg\u001b[0m\u001b[0;34m.\u001b[0m\u001b[0mgenerators\u001b[0m\u001b[0;34m.\u001b[0m\u001b[0mfrom_random\u001b[0m \u001b[0;32mimport\u001b[0m \u001b[0mGeneratorFromRandom\u001b[0m\u001b[0;34m\u001b[0m\u001b[0;34m\u001b[0m\u001b[0m\n\u001b[1;32m      3\u001b[0m \u001b[0;32mfrom\u001b[0m \u001b[0mtrdg\u001b[0m\u001b[0;34m.\u001b[0m\u001b[0mgenerators\u001b[0m\u001b[0;34m.\u001b[0m\u001b[0mfrom_strings\u001b[0m \u001b[0;32mimport\u001b[0m \u001b[0mGeneratorFromStrings\u001b[0m\u001b[0;34m\u001b[0m\u001b[0;34m\u001b[0m\u001b[0m\n\u001b[1;32m      4\u001b[0m \u001b[0;32mfrom\u001b[0m \u001b[0mtrdg\u001b[0m\u001b[0;34m.\u001b[0m\u001b[0mgenerators\u001b[0m\u001b[0;34m.\u001b[0m\u001b[0mfrom_wikipedia\u001b[0m \u001b[0;32mimport\u001b[0m \u001b[0mGeneratorFromWikipedia\u001b[0m\u001b[0;34m\u001b[0m\u001b[0;34m\u001b[0m\u001b[0m\n",
            "\u001b[0;32m/usr/local/lib/python3.12/dist-packages/trdg/generators/from_dict.py\u001b[0m in \u001b[0;36m<module>\u001b[0;34m\u001b[0m\n\u001b[1;32m      1\u001b[0m \u001b[0;32mimport\u001b[0m \u001b[0mos\u001b[0m\u001b[0;34m\u001b[0m\u001b[0;34m\u001b[0m\u001b[0m\n\u001b[1;32m      2\u001b[0m \u001b[0;34m\u001b[0m\u001b[0m\n\u001b[0;32m----> 3\u001b[0;31m \u001b[0;32mfrom\u001b[0m \u001b[0;34m.\u001b[0m\u001b[0mfrom_strings\u001b[0m \u001b[0;32mimport\u001b[0m \u001b[0mGeneratorFromStrings\u001b[0m\u001b[0;34m\u001b[0m\u001b[0;34m\u001b[0m\u001b[0m\n\u001b[0m\u001b[1;32m      4\u001b[0m \u001b[0;32mfrom\u001b[0m \u001b[0;34m.\u001b[0m\u001b[0;34m.\u001b[0m\u001b[0mdata_generator\u001b[0m \u001b[0;32mimport\u001b[0m \u001b[0mFakeTextDataGenerator\u001b[0m\u001b[0;34m\u001b[0m\u001b[0;34m\u001b[0m\u001b[0m\n\u001b[1;32m      5\u001b[0m \u001b[0;32mfrom\u001b[0m \u001b[0;34m.\u001b[0m\u001b[0;34m.\u001b[0m\u001b[0mstring_generator\u001b[0m \u001b[0;32mimport\u001b[0m \u001b[0mcreate_strings_from_dict\u001b[0m\u001b[0;34m\u001b[0m\u001b[0;34m\u001b[0m\u001b[0m\n",
            "\u001b[0;32m/usr/local/lib/python3.12/dist-packages/trdg/generators/from_strings.py\u001b[0m in \u001b[0;36m<module>\u001b[0;34m\u001b[0m\n\u001b[1;32m      1\u001b[0m \u001b[0;32mimport\u001b[0m \u001b[0mos\u001b[0m\u001b[0;34m\u001b[0m\u001b[0;34m\u001b[0m\u001b[0m\n\u001b[1;32m      2\u001b[0m \u001b[0;34m\u001b[0m\u001b[0m\n\u001b[0;32m----> 3\u001b[0;31m \u001b[0;32mfrom\u001b[0m \u001b[0;34m.\u001b[0m\u001b[0;34m.\u001b[0m\u001b[0mdata_generator\u001b[0m \u001b[0;32mimport\u001b[0m \u001b[0mFakeTextDataGenerator\u001b[0m\u001b[0;34m\u001b[0m\u001b[0;34m\u001b[0m\u001b[0m\n\u001b[0m\u001b[1;32m      4\u001b[0m \u001b[0;32mfrom\u001b[0m \u001b[0;34m.\u001b[0m\u001b[0;34m.\u001b[0m\u001b[0mutils\u001b[0m \u001b[0;32mimport\u001b[0m \u001b[0mload_dict\u001b[0m\u001b[0;34m,\u001b[0m \u001b[0mload_fonts\u001b[0m\u001b[0;34m\u001b[0m\u001b[0;34m\u001b[0m\u001b[0m\n\u001b[1;32m      5\u001b[0m \u001b[0;34m\u001b[0m\u001b[0m\n",
            "\u001b[0;32m/usr/local/lib/python3.12/dist-packages/trdg/data_generator.py\u001b[0m in \u001b[0;36m<module>\u001b[0;34m\u001b[0m\n\u001b[1;32m      4\u001b[0m \u001b[0;32mfrom\u001b[0m \u001b[0mPIL\u001b[0m \u001b[0;32mimport\u001b[0m \u001b[0mImage\u001b[0m\u001b[0;34m,\u001b[0m \u001b[0mImageFilter\u001b[0m\u001b[0;34m\u001b[0m\u001b[0;34m\u001b[0m\u001b[0m\n\u001b[1;32m      5\u001b[0m \u001b[0;34m\u001b[0m\u001b[0m\n\u001b[0;32m----> 6\u001b[0;31m \u001b[0;32mfrom\u001b[0m \u001b[0mtrdg\u001b[0m \u001b[0;32mimport\u001b[0m \u001b[0mcomputer_text_generator\u001b[0m\u001b[0;34m,\u001b[0m \u001b[0mbackground_generator\u001b[0m\u001b[0;34m,\u001b[0m \u001b[0mdistorsion_generator\u001b[0m\u001b[0;34m\u001b[0m\u001b[0;34m\u001b[0m\u001b[0m\n\u001b[0m\u001b[1;32m      7\u001b[0m \u001b[0;34m\u001b[0m\u001b[0m\n\u001b[1;32m      8\u001b[0m \u001b[0;32mtry\u001b[0m\u001b[0;34m:\u001b[0m\u001b[0;34m\u001b[0m\u001b[0;34m\u001b[0m\u001b[0m\n",
            "\u001b[0;32m/usr/local/lib/python3.12/dist-packages/trdg/computer_text_generator.py\u001b[0m in \u001b[0;36m<module>\u001b[0;34m\u001b[0m\n\u001b[1;32m      1\u001b[0m \u001b[0;32mimport\u001b[0m \u001b[0mrandom\u001b[0m \u001b[0;32mas\u001b[0m \u001b[0mrnd\u001b[0m\u001b[0;34m\u001b[0m\u001b[0;34m\u001b[0m\u001b[0m\n\u001b[1;32m      2\u001b[0m \u001b[0;34m\u001b[0m\u001b[0m\n\u001b[0;32m----> 3\u001b[0;31m \u001b[0;32mfrom\u001b[0m \u001b[0mPIL\u001b[0m \u001b[0;32mimport\u001b[0m \u001b[0mImage\u001b[0m\u001b[0;34m,\u001b[0m \u001b[0mImageColor\u001b[0m\u001b[0;34m,\u001b[0m \u001b[0mImageFont\u001b[0m\u001b[0;34m,\u001b[0m \u001b[0mImageDraw\u001b[0m\u001b[0;34m,\u001b[0m \u001b[0mImageFilter\u001b[0m\u001b[0;34m\u001b[0m\u001b[0;34m\u001b[0m\u001b[0m\n\u001b[0m\u001b[1;32m      4\u001b[0m \u001b[0;34m\u001b[0m\u001b[0m\n\u001b[1;32m      5\u001b[0m \u001b[0;34m\u001b[0m\u001b[0m\n",
            "\u001b[0;32m/usr/local/lib/python3.12/dist-packages/PIL/ImageFont.py\u001b[0m in \u001b[0;36m<module>\u001b[0;34m\u001b[0m\n\u001b[1;32m     32\u001b[0m \u001b[0;34m\u001b[0m\u001b[0m\n\u001b[1;32m     33\u001b[0m \u001b[0;32mfrom\u001b[0m \u001b[0;34m.\u001b[0m \u001b[0;32mimport\u001b[0m \u001b[0mImage\u001b[0m\u001b[0;34m\u001b[0m\u001b[0;34m\u001b[0m\u001b[0m\n\u001b[0;32m---> 34\u001b[0;31m \u001b[0;32mfrom\u001b[0m \u001b[0;34m.\u001b[0m\u001b[0m_util\u001b[0m \u001b[0;32mimport\u001b[0m \u001b[0misDirectory\u001b[0m\u001b[0;34m,\u001b[0m \u001b[0misPath\u001b[0m\u001b[0;34m\u001b[0m\u001b[0;34m\u001b[0m\u001b[0m\n\u001b[0m\u001b[1;32m     35\u001b[0m \u001b[0;34m\u001b[0m\u001b[0m\n\u001b[1;32m     36\u001b[0m \u001b[0mLAYOUT_BASIC\u001b[0m \u001b[0;34m=\u001b[0m \u001b[0;36m0\u001b[0m\u001b[0;34m\u001b[0m\u001b[0;34m\u001b[0m\u001b[0m\n",
            "\u001b[0;31mImportError\u001b[0m: cannot import name 'isDirectory' from 'PIL._util' (/usr/local/lib/python3.12/dist-packages/PIL/_util.py)",
            "",
            "\u001b[0;31m---------------------------------------------------------------------------\u001b[0;32m\nNOTE: If your import is failing due to a missing package, you can\nmanually install dependencies using either !pip or !apt.\n\nTo view examples of installing some common dependencies, click the\n\"Open Examples\" button below.\n\u001b[0;31m---------------------------------------------------------------------------\u001b[0m\n"
          ],
          "errorDetails": {
            "actions": [
              {
                "action": "open_url",
                "actionText": "Open Examples",
                "url": "/notebooks/snippets/importing_libraries.ipynb"
              }
            ]
          }
        }
      ]
    },
    {
      "cell_type": "markdown",
      "metadata": {
        "id": "ba55a369"
      },
      "source": [
        "**Reasoning**:\n",
        "The previous command failed because the `trdg` library was not found. Reinstalling the library and its dependencies should resolve this issue.\n",
        "\n"
      ]
    },
    {
      "cell_type": "code",
      "metadata": {
        "colab": {
          "base_uri": "https://localhost:8080/"
        },
        "id": "PkCHtdAB9QLj",
        "outputId": "6520c879-350e-4852-9dac-c6ec9f33c94d"
      },
      "source": [
        "!pip install trdg opencv-python"
      ],
      "execution_count": 10,
      "outputs": [
        {
          "output_type": "stream",
          "name": "stdout",
          "text": [
            "Requirement already satisfied: trdg in /usr/local/lib/python3.12/dist-packages (1.6.0)\n",
            "Requirement already satisfied: opencv-python in /usr/local/lib/python3.12/dist-packages (4.5.5.64)\n",
            "Requirement already satisfied: pillow==7.0.0 in /usr/local/lib/python3.12/dist-packages (from trdg) (7.0.0)\n",
            "Requirement already satisfied: numpy>=1.17.3 in /usr/local/lib/python3.12/dist-packages (from trdg) (2.0.2)\n",
            "Requirement already satisfied: requests>=2.20.0 in /usr/local/lib/python3.12/dist-packages (from trdg) (2.32.4)\n",
            "Requirement already satisfied: tqdm>=4.23.0 in /usr/local/lib/python3.12/dist-packages (from trdg) (4.67.1)\n",
            "Requirement already satisfied: beautifulsoup4>=4.6.0 in /usr/local/lib/python3.12/dist-packages (from trdg) (4.13.5)\n",
            "Requirement already satisfied: diffimg==0.2.3 in /usr/local/lib/python3.12/dist-packages (from trdg) (0.2.3)\n",
            "Requirement already satisfied: soupsieve>1.2 in /usr/local/lib/python3.12/dist-packages (from beautifulsoup4>=4.6.0->trdg) (2.8)\n",
            "Requirement already satisfied: typing-extensions>=4.0.0 in /usr/local/lib/python3.12/dist-packages (from beautifulsoup4>=4.6.0->trdg) (4.15.0)\n",
            "Requirement already satisfied: charset_normalizer<4,>=2 in /usr/local/lib/python3.12/dist-packages (from requests>=2.20.0->trdg) (3.4.3)\n",
            "Requirement already satisfied: idna<4,>=2.5 in /usr/local/lib/python3.12/dist-packages (from requests>=2.20.0->trdg) (3.10)\n",
            "Requirement already satisfied: urllib3<3,>=1.21.1 in /usr/local/lib/python3.12/dist-packages (from requests>=2.20.0->trdg) (2.5.0)\n",
            "Requirement already satisfied: certifi>=2017.4.17 in /usr/local/lib/python3.12/dist-packages (from requests>=2.20.0->trdg) (2025.8.3)\n"
          ]
        }
      ]
    },
    {
      "cell_type": "markdown",
      "metadata": {
        "id": "c7ebed00"
      },
      "source": [
        "**Reasoning**:\n",
        "Now that `trdg` is installed, set up the parameters for the trdg generator again as originally planned.\n",
        "\n"
      ]
    },
    {
      "cell_type": "code",
      "metadata": {
        "colab": {
          "base_uri": "https://localhost:8080/",
          "height": 547
        },
        "id": "00c055f0",
        "outputId": "f4b6b5c6-56b7-487c-bacf-40350256f37b"
      },
      "source": [
        "from trdg.generators import GeneratorFromStrings\n",
        "\n",
        "fonts_path = '/content/drive/MyDrive/imageProcessing/fonts'\n",
        "output_dir = '/content/drive/MyDrive/imageProcessing/'\n",
        "\n",
        "generator = GeneratorFromStrings(\n",
        "    strings=words_subset,\n",
        "    font_dir=fonts_path,\n",
        "    output_dir=output_dir\n",
        ")\n",
        "\n",
        "print(\"TRDG generator set up successfully.\")"
      ],
      "execution_count": 11,
      "outputs": [
        {
          "output_type": "error",
          "ename": "ImportError",
          "evalue": "cannot import name 'isDirectory' from 'PIL._util' (/usr/local/lib/python3.12/dist-packages/PIL/_util.py)",
          "traceback": [
            "\u001b[0;31m---------------------------------------------------------------------------\u001b[0m",
            "\u001b[0;31mImportError\u001b[0m                               Traceback (most recent call last)",
            "\u001b[0;32m/tmp/ipython-input-2060923561.py\u001b[0m in \u001b[0;36m<cell line: 0>\u001b[0;34m()\u001b[0m\n\u001b[0;32m----> 1\u001b[0;31m \u001b[0;32mfrom\u001b[0m \u001b[0mtrdg\u001b[0m\u001b[0;34m.\u001b[0m\u001b[0mgenerators\u001b[0m \u001b[0;32mimport\u001b[0m \u001b[0mGeneratorFromStrings\u001b[0m\u001b[0;34m\u001b[0m\u001b[0;34m\u001b[0m\u001b[0m\n\u001b[0m\u001b[1;32m      2\u001b[0m \u001b[0;34m\u001b[0m\u001b[0m\n\u001b[1;32m      3\u001b[0m \u001b[0mfonts_path\u001b[0m \u001b[0;34m=\u001b[0m \u001b[0;34m'/content/drive/MyDrive/imageProcessing/fonts'\u001b[0m\u001b[0;34m\u001b[0m\u001b[0;34m\u001b[0m\u001b[0m\n\u001b[1;32m      4\u001b[0m \u001b[0moutput_dir\u001b[0m \u001b[0;34m=\u001b[0m \u001b[0;34m'/content/drive/MyDrive/imageProcessing/'\u001b[0m\u001b[0;34m\u001b[0m\u001b[0;34m\u001b[0m\u001b[0m\n\u001b[1;32m      5\u001b[0m \u001b[0;34m\u001b[0m\u001b[0m\n",
            "\u001b[0;32m/usr/local/lib/python3.12/dist-packages/trdg/generators/__init__.py\u001b[0m in \u001b[0;36m<module>\u001b[0;34m\u001b[0m\n\u001b[0;32m----> 1\u001b[0;31m \u001b[0;32mfrom\u001b[0m \u001b[0mtrdg\u001b[0m\u001b[0;34m.\u001b[0m\u001b[0mgenerators\u001b[0m\u001b[0;34m.\u001b[0m\u001b[0mfrom_dict\u001b[0m \u001b[0;32mimport\u001b[0m \u001b[0mGeneratorFromDict\u001b[0m\u001b[0;34m\u001b[0m\u001b[0;34m\u001b[0m\u001b[0m\n\u001b[0m\u001b[1;32m      2\u001b[0m \u001b[0;32mfrom\u001b[0m \u001b[0mtrdg\u001b[0m\u001b[0;34m.\u001b[0m\u001b[0mgenerators\u001b[0m\u001b[0;34m.\u001b[0m\u001b[0mfrom_random\u001b[0m \u001b[0;32mimport\u001b[0m \u001b[0mGeneratorFromRandom\u001b[0m\u001b[0;34m\u001b[0m\u001b[0;34m\u001b[0m\u001b[0m\n\u001b[1;32m      3\u001b[0m \u001b[0;32mfrom\u001b[0m \u001b[0mtrdg\u001b[0m\u001b[0;34m.\u001b[0m\u001b[0mgenerators\u001b[0m\u001b[0;34m.\u001b[0m\u001b[0mfrom_strings\u001b[0m \u001b[0;32mimport\u001b[0m \u001b[0mGeneratorFromStrings\u001b[0m\u001b[0;34m\u001b[0m\u001b[0;34m\u001b[0m\u001b[0m\n\u001b[1;32m      4\u001b[0m \u001b[0;32mfrom\u001b[0m \u001b[0mtrdg\u001b[0m\u001b[0;34m.\u001b[0m\u001b[0mgenerators\u001b[0m\u001b[0;34m.\u001b[0m\u001b[0mfrom_wikipedia\u001b[0m \u001b[0;32mimport\u001b[0m \u001b[0mGeneratorFromWikipedia\u001b[0m\u001b[0;34m\u001b[0m\u001b[0;34m\u001b[0m\u001b[0m\n",
            "\u001b[0;32m/usr/local/lib/python3.12/dist-packages/trdg/generators/from_dict.py\u001b[0m in \u001b[0;36m<module>\u001b[0;34m\u001b[0m\n\u001b[1;32m      1\u001b[0m \u001b[0;32mimport\u001b[0m \u001b[0mos\u001b[0m\u001b[0;34m\u001b[0m\u001b[0;34m\u001b[0m\u001b[0m\n\u001b[1;32m      2\u001b[0m \u001b[0;34m\u001b[0m\u001b[0m\n\u001b[0;32m----> 3\u001b[0;31m \u001b[0;32mfrom\u001b[0m \u001b[0;34m.\u001b[0m\u001b[0mfrom_strings\u001b[0m \u001b[0;32mimport\u001b[0m \u001b[0mGeneratorFromStrings\u001b[0m\u001b[0;34m\u001b[0m\u001b[0;34m\u001b[0m\u001b[0m\n\u001b[0m\u001b[1;32m      4\u001b[0m \u001b[0;32mfrom\u001b[0m \u001b[0;34m.\u001b[0m\u001b[0;34m.\u001b[0m\u001b[0mdata_generator\u001b[0m \u001b[0;32mimport\u001b[0m \u001b[0mFakeTextDataGenerator\u001b[0m\u001b[0;34m\u001b[0m\u001b[0;34m\u001b[0m\u001b[0m\n\u001b[1;32m      5\u001b[0m \u001b[0;32mfrom\u001b[0m \u001b[0;34m.\u001b[0m\u001b[0;34m.\u001b[0m\u001b[0mstring_generator\u001b[0m \u001b[0;32mimport\u001b[0m \u001b[0mcreate_strings_from_dict\u001b[0m\u001b[0;34m\u001b[0m\u001b[0;34m\u001b[0m\u001b[0m\n",
            "\u001b[0;32m/usr/local/lib/python3.12/dist-packages/trdg/generators/from_strings.py\u001b[0m in \u001b[0;36m<module>\u001b[0;34m\u001b[0m\n\u001b[1;32m      1\u001b[0m \u001b[0;32mimport\u001b[0m \u001b[0mos\u001b[0m\u001b[0;34m\u001b[0m\u001b[0;34m\u001b[0m\u001b[0m\n\u001b[1;32m      2\u001b[0m \u001b[0;34m\u001b[0m\u001b[0m\n\u001b[0;32m----> 3\u001b[0;31m \u001b[0;32mfrom\u001b[0m \u001b[0;34m.\u001b[0m\u001b[0;34m.\u001b[0m\u001b[0mdata_generator\u001b[0m \u001b[0;32mimport\u001b[0m \u001b[0mFakeTextDataGenerator\u001b[0m\u001b[0;34m\u001b[0m\u001b[0;34m\u001b[0m\u001b[0m\n\u001b[0m\u001b[1;32m      4\u001b[0m \u001b[0;32mfrom\u001b[0m \u001b[0;34m.\u001b[0m\u001b[0;34m.\u001b[0m\u001b[0mutils\u001b[0m \u001b[0;32mimport\u001b[0m \u001b[0mload_dict\u001b[0m\u001b[0;34m,\u001b[0m \u001b[0mload_fonts\u001b[0m\u001b[0;34m\u001b[0m\u001b[0;34m\u001b[0m\u001b[0m\n\u001b[1;32m      5\u001b[0m \u001b[0;34m\u001b[0m\u001b[0m\n",
            "\u001b[0;32m/usr/local/lib/python3.12/dist-packages/trdg/data_generator.py\u001b[0m in \u001b[0;36m<module>\u001b[0;34m\u001b[0m\n\u001b[1;32m      4\u001b[0m \u001b[0;32mfrom\u001b[0m \u001b[0mPIL\u001b[0m \u001b[0;32mimport\u001b[0m \u001b[0mImage\u001b[0m\u001b[0;34m,\u001b[0m \u001b[0mImageFilter\u001b[0m\u001b[0;34m\u001b[0m\u001b[0;34m\u001b[0m\u001b[0m\n\u001b[1;32m      5\u001b[0m \u001b[0;34m\u001b[0m\u001b[0m\n\u001b[0;32m----> 6\u001b[0;31m \u001b[0;32mfrom\u001b[0m \u001b[0mtrdg\u001b[0m \u001b[0;32mimport\u001b[0m \u001b[0mcomputer_text_generator\u001b[0m\u001b[0;34m,\u001b[0m \u001b[0mbackground_generator\u001b[0m\u001b[0;34m,\u001b[0m \u001b[0mdistorsion_generator\u001b[0m\u001b[0;34m\u001b[0m\u001b[0;34m\u001b[0m\u001b[0m\n\u001b[0m\u001b[1;32m      7\u001b[0m \u001b[0;34m\u001b[0m\u001b[0m\n\u001b[1;32m      8\u001b[0m \u001b[0;32mtry\u001b[0m\u001b[0;34m:\u001b[0m\u001b[0;34m\u001b[0m\u001b[0;34m\u001b[0m\u001b[0m\n",
            "\u001b[0;32m/usr/local/lib/python3.12/dist-packages/trdg/computer_text_generator.py\u001b[0m in \u001b[0;36m<module>\u001b[0;34m\u001b[0m\n\u001b[1;32m      1\u001b[0m \u001b[0;32mimport\u001b[0m \u001b[0mrandom\u001b[0m \u001b[0;32mas\u001b[0m \u001b[0mrnd\u001b[0m\u001b[0;34m\u001b[0m\u001b[0;34m\u001b[0m\u001b[0m\n\u001b[1;32m      2\u001b[0m \u001b[0;34m\u001b[0m\u001b[0m\n\u001b[0;32m----> 3\u001b[0;31m \u001b[0;32mfrom\u001b[0m \u001b[0mPIL\u001b[0m \u001b[0;32mimport\u001b[0m \u001b[0mImage\u001b[0m\u001b[0;34m,\u001b[0m \u001b[0mImageColor\u001b[0m\u001b[0;34m,\u001b[0m \u001b[0mImageFont\u001b[0m\u001b[0;34m,\u001b[0m \u001b[0mImageDraw\u001b[0m\u001b[0;34m,\u001b[0m \u001b[0mImageFilter\u001b[0m\u001b[0;34m\u001b[0m\u001b[0;34m\u001b[0m\u001b[0m\n\u001b[0m\u001b[1;32m      4\u001b[0m \u001b[0;34m\u001b[0m\u001b[0m\n\u001b[1;32m      5\u001b[0m \u001b[0;34m\u001b[0m\u001b[0m\n",
            "\u001b[0;32m/usr/local/lib/python3.12/dist-packages/PIL/ImageFont.py\u001b[0m in \u001b[0;36m<module>\u001b[0;34m\u001b[0m\n\u001b[1;32m     32\u001b[0m \u001b[0;34m\u001b[0m\u001b[0m\n\u001b[1;32m     33\u001b[0m \u001b[0;32mfrom\u001b[0m \u001b[0;34m.\u001b[0m \u001b[0;32mimport\u001b[0m \u001b[0mImage\u001b[0m\u001b[0;34m\u001b[0m\u001b[0;34m\u001b[0m\u001b[0m\n\u001b[0;32m---> 34\u001b[0;31m \u001b[0;32mfrom\u001b[0m \u001b[0;34m.\u001b[0m\u001b[0m_util\u001b[0m \u001b[0;32mimport\u001b[0m \u001b[0misDirectory\u001b[0m\u001b[0;34m,\u001b[0m \u001b[0misPath\u001b[0m\u001b[0;34m\u001b[0m\u001b[0;34m\u001b[0m\u001b[0m\n\u001b[0m\u001b[1;32m     35\u001b[0m \u001b[0;34m\u001b[0m\u001b[0m\n\u001b[1;32m     36\u001b[0m \u001b[0mLAYOUT_BASIC\u001b[0m \u001b[0;34m=\u001b[0m \u001b[0;36m0\u001b[0m\u001b[0;34m\u001b[0m\u001b[0;34m\u001b[0m\u001b[0m\n",
            "\u001b[0;31mImportError\u001b[0m: cannot import name 'isDirectory' from 'PIL._util' (/usr/local/lib/python3.12/dist-packages/PIL/_util.py)",
            "",
            "\u001b[0;31m---------------------------------------------------------------------------\u001b[0;32m\nNOTE: If your import is failing due to a missing package, you can\nmanually install dependencies using either !pip or !apt.\n\nTo view examples of installing some common dependencies, click the\n\"Open Examples\" button below.\n\u001b[0;31m---------------------------------------------------------------------------\u001b[0m\n"
          ],
          "errorDetails": {
            "actions": [
              {
                "action": "open_url",
                "actionText": "Open Examples",
                "url": "/notebooks/snippets/importing_libraries.ipynb"
              }
            ]
          }
        }
      ]
    },
    {
      "cell_type": "markdown",
      "metadata": {
        "id": "c1a79c96"
      },
      "source": [
        "**Reasoning**:\n",
        "The traceback indicates an `ImportError` related to the `PIL` (Pillow) library, likely due to a version mismatch with `trdg`. Reinstalling Pillow to a compatible version might fix this issue. Since the previous `pip install` command also showed dependency conflicts related to Pillow, specifying a version known to work with trdg (like 7.0.0 as shown in the previous install output) could resolve this.\n",
        "\n"
      ]
    },
    {
      "cell_type": "code",
      "metadata": {
        "colab": {
          "base_uri": "https://localhost:8080/"
        },
        "id": "KevAmptz-JH3",
        "outputId": "07d3f3fb-3f47-44c1-db74-14bbbc14837a"
      },
      "source": [
        "!pip install pillow==7.0.0"
      ],
      "execution_count": 12,
      "outputs": [
        {
          "output_type": "stream",
          "name": "stdout",
          "text": [
            "Requirement already satisfied: pillow==7.0.0 in /usr/local/lib/python3.12/dist-packages (7.0.0)\n"
          ]
        }
      ]
    },
    {
      "cell_type": "markdown",
      "metadata": {
        "id": "26aa8d6c"
      },
      "source": [
        "**Reasoning**:\n",
        "Pillow 7.0.0 is already installed, but the import error persists. This might be due to other libraries requiring a newer version of Pillow. Reinstalling `trdg` after ensuring the desired Pillow version is installed might resolve the conflict.\n",
        "\n"
      ]
    },
    {
      "cell_type": "code",
      "metadata": {
        "colab": {
          "base_uri": "https://localhost:8080/"
        },
        "id": "a488c517",
        "outputId": "d0318454-7cbf-411f-f642-d8fd5238ca1d"
      },
      "source": [
        "!pip install trdg --upgrade"
      ],
      "execution_count": 13,
      "outputs": [
        {
          "output_type": "stream",
          "name": "stdout",
          "text": [
            "Requirement already satisfied: trdg in /usr/local/lib/python3.12/dist-packages (1.6.0)\n",
            "Collecting trdg\n",
            "  Using cached trdg-1.8.0-py3-none-any.whl.metadata (9.0 kB)\n",
            "Requirement already satisfied: pillow>=7.0.0 in /usr/local/lib/python3.12/dist-packages (from trdg) (7.0.0)\n",
            "Requirement already satisfied: requests>=2.20.0 in /usr/local/lib/python3.12/dist-packages (from trdg) (2.32.4)\n",
            "Requirement already satisfied: opencv-python>=4.2.0.32 in /usr/local/lib/python3.12/dist-packages (from trdg) (4.5.5.64)\n",
            "Requirement already satisfied: tqdm>=4.23.0 in /usr/local/lib/python3.12/dist-packages (from trdg) (4.67.1)\n",
            "Collecting wikipedia>=1.4.0 (from trdg)\n",
            "  Using cached wikipedia-1.4.0.tar.gz (27 kB)\n",
            "  Preparing metadata (setup.py) ... \u001b[?25l\u001b[?25hdone\n",
            "Requirement already satisfied: diffimg==0.2.3 in /usr/local/lib/python3.12/dist-packages (from trdg) (0.2.3)\n",
            "Collecting arabic-reshaper==2.1.3 (from trdg)\n",
            "  Using cached arabic_reshaper-2.1.3-py3-none-any.whl.metadata (12 kB)\n",
            "\u001b[33mWARNING: Ignoring version 2.1.3 of arabic-reshaper since it has invalid metadata:\n",
            "Requested arabic-reshaper==2.1.3 from https://files.pythonhosted.org/packages/47/27/7b9b824f5342d8ee180027333f2e15842ea36f5bc2d3d24a4e6bb31fb596/arabic_reshaper-2.1.3-py3-none-any.whl (from trdg) has invalid metadata: Expected matching RIGHT_PARENTHESIS for LEFT_PARENTHESIS, after version specifier\n",
            "    fonttools (>=3.0<4.0) ; (python_version < \"3\") and extra == 'with-fonttools'\n",
            "              ~~~~~~^\n",
            "Please use pip<24.1 if you need to use this version.\u001b[0m\u001b[33m\n",
            "\u001b[0mINFO: pip is looking at multiple versions of trdg to determine which version is compatible with other requirements. This could take a while.\n",
            "Collecting trdg\n",
            "  Using cached trdg-1.7.0-py3-none-any.whl.metadata (9.0 kB)\n",
            "Collecting numpy<1.17,>=1.16.4 (from trdg)\n",
            "  Downloading numpy-1.16.6.zip (5.1 MB)\n",
            "\u001b[2K     \u001b[90m━━━━━━━━━━━━━━━━━━━━━━━━━━━━━━━━━━━━━━━━\u001b[0m \u001b[32m5.1/5.1 MB\u001b[0m \u001b[31m61.1 MB/s\u001b[0m eta \u001b[36m0:00:00\u001b[0m\n",
            "\u001b[?25h  Preparing metadata (setup.py) ... \u001b[?25l\u001b[?25hdone\n",
            "Requirement already satisfied: beautifulsoup4>=4.6.0 in /usr/local/lib/python3.12/dist-packages (from trdg) (4.13.5)\n",
            "Requirement already satisfied: soupsieve>1.2 in /usr/local/lib/python3.12/dist-packages (from beautifulsoup4>=4.6.0->trdg) (2.8)\n",
            "Requirement already satisfied: typing-extensions>=4.0.0 in /usr/local/lib/python3.12/dist-packages (from beautifulsoup4>=4.6.0->trdg) (4.15.0)\n",
            "INFO: pip is looking at multiple versions of opencv-python to determine which version is compatible with other requirements. This could take a while.\n",
            "Collecting opencv-python>=4.2.0.32 (from trdg)\n",
            "  Downloading opencv_python-4.12.0.88-cp37-abi3-manylinux2014_x86_64.manylinux_2_17_x86_64.whl.metadata (19 kB)\n",
            "  Downloading opencv_python-4.11.0.86-cp37-abi3-manylinux_2_17_x86_64.manylinux2014_x86_64.whl.metadata (20 kB)\n",
            "  Downloading opencv_python-4.10.0.84-cp37-abi3-manylinux_2_17_x86_64.manylinux2014_x86_64.whl.metadata (20 kB)\n",
            "  Downloading opencv_python-4.10.0.82-cp37-abi3-manylinux_2_17_x86_64.manylinux2014_x86_64.whl.metadata (20 kB)\n",
            "  Downloading opencv_python-4.9.0.80-cp37-abi3-manylinux_2_17_x86_64.manylinux2014_x86_64.whl.metadata (20 kB)\n",
            "  Downloading opencv_python-4.8.1.78-cp37-abi3-manylinux_2_17_x86_64.manylinux2014_x86_64.whl.metadata (19 kB)\n",
            "  Downloading opencv_python-4.8.0.76-cp37-abi3-manylinux_2_17_x86_64.manylinux2014_x86_64.whl.metadata (19 kB)\n",
            "INFO: pip is still looking at multiple versions of opencv-python to determine which version is compatible with other requirements. This could take a while.\n",
            "  Downloading opencv_python-4.8.0.74-cp37-abi3-manylinux_2_17_x86_64.manylinux2014_x86_64.whl.metadata (19 kB)\n",
            "  Downloading opencv_python-4.7.0.72-cp37-abi3-manylinux_2_17_x86_64.manylinux2014_x86_64.whl.metadata (18 kB)\n",
            "  Downloading opencv_python-4.6.0.66-cp36-abi3-manylinux_2_17_x86_64.manylinux2014_x86_64.whl.metadata (18 kB)\n",
            "  Downloading opencv-python-4.5.4.60.tar.gz (89.8 MB)\n",
            "\u001b[2K     \u001b[90m━━━━━━━━━━━━━━━━━━━━━━━━━━━━━━━━━━━━━━━━\u001b[0m \u001b[32m89.8/89.8 MB\u001b[0m \u001b[31m9.2 MB/s\u001b[0m eta \u001b[36m0:00:00\u001b[0m\n",
            "\u001b[?25h  \u001b[1;31merror\u001b[0m: \u001b[1msubprocess-exited-with-error\u001b[0m\n",
            "  \n",
            "  \u001b[31m×\u001b[0m \u001b[32mpip subprocess to install build dependencies\u001b[0m did not run successfully.\n",
            "  \u001b[31m│\u001b[0m exit code: \u001b[1;36m1\u001b[0m\n",
            "  \u001b[31m╰─>\u001b[0m See above for output.\n",
            "  \n",
            "  \u001b[1;35mnote\u001b[0m: This error originates from a subprocess, and is likely not a problem with pip.\n",
            "  Installing build dependencies ... \u001b[?25l\u001b[?25herror\n",
            "\u001b[1;31merror\u001b[0m: \u001b[1msubprocess-exited-with-error\u001b[0m\n",
            "\n",
            "\u001b[31m×\u001b[0m \u001b[32mpip subprocess to install build dependencies\u001b[0m did not run successfully.\n",
            "\u001b[31m│\u001b[0m exit code: \u001b[1;36m1\u001b[0m\n",
            "\u001b[31m╰─>\u001b[0m See above for output.\n",
            "\n",
            "\u001b[1;35mnote\u001b[0m: This error originates from a subprocess, and is likely not a problem with pip.\n"
          ]
        }
      ]
    },
    {
      "cell_type": "markdown",
      "metadata": {
        "id": "19a64d05"
      },
      "source": [
        "## Define image generation parameters\n",
        "\n",
        "### Subtask:\n",
        "Set up the parameters for the `trdg` generator, including the list of the first 500 words, the path to the Armenian fonts, and the output directory.\n"
      ]
    },
    {
      "cell_type": "markdown",
      "metadata": {
        "id": "1d698b80"
      },
      "source": [
        "**Reasoning**:\n",
        "Retry installing trdg and compatible versions of dependencies, then import the necessary class and define the parameters.\n",
        "\n"
      ]
    },
    {
      "cell_type": "code",
      "metadata": {
        "colab": {
          "base_uri": "https://localhost:8080/",
          "height": 1000
        },
        "id": "15b02330",
        "outputId": "8f83fb0d-ed23-43c2-d7b8-0844c9014e6d"
      },
      "source": [
        "!pip install trdg==1.6.0 opencv-python==4.5.5.64 Pillow==7.0.0 --force-reinstall --no-cache-dir\n",
        "\n",
        "from trdg.generators import GeneratorFromStrings\n",
        "\n",
        "fonts_path = '/content/drive/MyDrive/imageProcessing/fonts'\n",
        "output_dir = '/content/drive/MyDrive/imageProcessing/generated_images'\n",
        "\n",
        "generator = GeneratorFromStrings(\n",
        "    strings=words_subset,\n",
        "    fonts=[fonts_path + '/' + f for f in os.listdir(fonts_path)],\n",
        "    size=32,\n",
        "    count=500,\n",
        "    random_skew=True,\n",
        "    random_blur=True,\n",
        "    background_type=3,\n",
        "    distorsion_type=2,\n",
        "    dict_file=None\n",
        ")\n",
        "\n",
        "print(\"Generator set up successfully.\")"
      ],
      "execution_count": 14,
      "outputs": [
        {
          "output_type": "stream",
          "name": "stdout",
          "text": [
            "Collecting trdg==1.6.0\n",
            "  Downloading trdg-1.6.0-py3-none-any.whl.metadata (8.7 kB)\n",
            "Collecting opencv-python==4.5.5.64\n",
            "  Downloading opencv_python-4.5.5.64-cp36-abi3-manylinux_2_17_x86_64.manylinux2014_x86_64.whl.metadata (18 kB)\n",
            "Collecting Pillow==7.0.0\n",
            "  Downloading Pillow-7.0.0.tar.gz (38.2 MB)\n",
            "\u001b[2K     \u001b[90m━━━━━━━━━━━━━━━━━━━━━━━━━━━━━━━━━━━━━━━\u001b[0m \u001b[32m38.2/38.2 MB\u001b[0m \u001b[31m307.6 MB/s\u001b[0m eta \u001b[36m0:00:00\u001b[0m\n",
            "\u001b[?25h  Preparing metadata (setup.py) ... \u001b[?25l\u001b[?25hdone\n",
            "Collecting numpy>=1.17.3 (from trdg==1.6.0)\n",
            "  Downloading numpy-2.3.3-cp312-cp312-manylinux_2_27_x86_64.manylinux_2_28_x86_64.whl.metadata (62 kB)\n",
            "\u001b[2K     \u001b[90m━━━━━━━━━━━━━━━━━━━━━━━━━━━━━━━━━━━━━━━\u001b[0m \u001b[32m62.1/62.1 kB\u001b[0m \u001b[31m241.3 MB/s\u001b[0m eta \u001b[36m0:00:00\u001b[0m\n",
            "\u001b[?25hCollecting requests>=2.20.0 (from trdg==1.6.0)\n",
            "  Downloading requests-2.32.5-py3-none-any.whl.metadata (4.9 kB)\n",
            "Collecting tqdm>=4.23.0 (from trdg==1.6.0)\n",
            "  Downloading tqdm-4.67.1-py3-none-any.whl.metadata (57 kB)\n",
            "\u001b[2K     \u001b[90m━━━━━━━━━━━━━━━━━━━━━━━━━━━━━━━━━━━━━━━\u001b[0m \u001b[32m57.7/57.7 kB\u001b[0m \u001b[31m192.6 MB/s\u001b[0m eta \u001b[36m0:00:00\u001b[0m\n",
            "\u001b[?25hCollecting beautifulsoup4>=4.6.0 (from trdg==1.6.0)\n",
            "  Downloading beautifulsoup4-4.14.2-py3-none-any.whl.metadata (3.8 kB)\n",
            "Collecting diffimg==0.2.3 (from trdg==1.6.0)\n",
            "  Downloading diffimg-0.2.3.tar.gz (4.1 kB)\n",
            "  Preparing metadata (setup.py) ... \u001b[?25l\u001b[?25hdone\n",
            "Collecting soupsieve>1.2 (from beautifulsoup4>=4.6.0->trdg==1.6.0)\n",
            "  Downloading soupsieve-2.8-py3-none-any.whl.metadata (4.6 kB)\n",
            "Collecting typing-extensions>=4.0.0 (from beautifulsoup4>=4.6.0->trdg==1.6.0)\n",
            "  Downloading typing_extensions-4.15.0-py3-none-any.whl.metadata (3.3 kB)\n",
            "Collecting charset_normalizer<4,>=2 (from requests>=2.20.0->trdg==1.6.0)\n",
            "  Downloading charset_normalizer-3.4.3-cp312-cp312-manylinux2014_x86_64.manylinux_2_17_x86_64.manylinux_2_28_x86_64.whl.metadata (36 kB)\n",
            "Collecting idna<4,>=2.5 (from requests>=2.20.0->trdg==1.6.0)\n",
            "  Downloading idna-3.10-py3-none-any.whl.metadata (10 kB)\n",
            "Collecting urllib3<3,>=1.21.1 (from requests>=2.20.0->trdg==1.6.0)\n",
            "  Downloading urllib3-2.5.0-py3-none-any.whl.metadata (6.5 kB)\n",
            "Collecting certifi>=2017.4.17 (from requests>=2.20.0->trdg==1.6.0)\n",
            "  Downloading certifi-2025.8.3-py3-none-any.whl.metadata (2.4 kB)\n",
            "Downloading trdg-1.6.0-py3-none-any.whl (49.9 MB)\n",
            "\u001b[2K   \u001b[90m━━━━━━━━━━━━━━━━━━━━━━━━━━━━━━━━━━━━━━━━\u001b[0m \u001b[32m49.9/49.9 MB\u001b[0m \u001b[31m256.8 MB/s\u001b[0m eta \u001b[36m0:00:00\u001b[0m\n",
            "\u001b[?25hDownloading opencv_python-4.5.5.64-cp36-abi3-manylinux_2_17_x86_64.manylinux2014_x86_64.whl (60.5 MB)\n",
            "\u001b[2K   \u001b[90m━━━━━━━━━━━━━━━━━━━━━━━━━━━━━━━━━━━━━━━━\u001b[0m \u001b[32m60.5/60.5 MB\u001b[0m \u001b[31m279.8 MB/s\u001b[0m eta \u001b[36m0:00:00\u001b[0m\n",
            "\u001b[?25hDownloading beautifulsoup4-4.14.2-py3-none-any.whl (106 kB)\n",
            "\u001b[2K   \u001b[90m━━━━━━━━━━━━━━━━━━━━━━━━━━━━━━━━━━━━━━━\u001b[0m \u001b[32m106.4/106.4 kB\u001b[0m \u001b[31m382.7 MB/s\u001b[0m eta \u001b[36m0:00:00\u001b[0m\n",
            "\u001b[?25hDownloading numpy-2.3.3-cp312-cp312-manylinux_2_27_x86_64.manylinux_2_28_x86_64.whl (16.6 MB)\n",
            "\u001b[2K   \u001b[90m━━━━━━━━━━━━━━━━━━━━━━━━━━━━━━━━━━━━━━━━\u001b[0m \u001b[32m16.6/16.6 MB\u001b[0m \u001b[31m298.4 MB/s\u001b[0m eta \u001b[36m0:00:00\u001b[0m\n",
            "\u001b[?25hDownloading requests-2.32.5-py3-none-any.whl (64 kB)\n",
            "\u001b[2K   \u001b[90m━━━━━━━━━━━━━━━━━━━━━━━━━━━━━━━━━━━━━━━━\u001b[0m \u001b[32m64.7/64.7 kB\u001b[0m \u001b[31m312.1 MB/s\u001b[0m eta \u001b[36m0:00:00\u001b[0m\n",
            "\u001b[?25hDownloading tqdm-4.67.1-py3-none-any.whl (78 kB)\n",
            "\u001b[2K   \u001b[90m━━━━━━━━━━━━━━━━━━━━━━━━━━━━━━━━━━━━━━━━\u001b[0m \u001b[32m78.5/78.5 kB\u001b[0m \u001b[31m352.6 MB/s\u001b[0m eta \u001b[36m0:00:00\u001b[0m\n",
            "\u001b[?25hDownloading certifi-2025.8.3-py3-none-any.whl (161 kB)\n",
            "\u001b[2K   \u001b[90m━━━━━━━━━━━━━━━━━━━━━━━━━━━━━━━━━━━━━━━\u001b[0m \u001b[32m161.2/161.2 kB\u001b[0m \u001b[31m330.6 MB/s\u001b[0m eta \u001b[36m0:00:00\u001b[0m\n",
            "\u001b[?25hDownloading charset_normalizer-3.4.3-cp312-cp312-manylinux2014_x86_64.manylinux_2_17_x86_64.manylinux_2_28_x86_64.whl (151 kB)\n",
            "\u001b[2K   \u001b[90m━━━━━━━━━━━━━━━━━━━━━━━━━━━━━━━━━━━━━━━\u001b[0m \u001b[32m151.8/151.8 kB\u001b[0m \u001b[31m394.7 MB/s\u001b[0m eta \u001b[36m0:00:00\u001b[0m\n",
            "\u001b[?25hDownloading idna-3.10-py3-none-any.whl (70 kB)\n",
            "\u001b[2K   \u001b[90m━━━━━━━━━━━━━━━━━━━━━━━━━━━━━━━━━━━━━━━━\u001b[0m \u001b[32m70.4/70.4 kB\u001b[0m \u001b[31m309.4 MB/s\u001b[0m eta \u001b[36m0:00:00\u001b[0m\n",
            "\u001b[?25hDownloading soupsieve-2.8-py3-none-any.whl (36 kB)\n",
            "Downloading typing_extensions-4.15.0-py3-none-any.whl (44 kB)\n",
            "\u001b[2K   \u001b[90m━━━━━━━━━━━━━━━━━━━━━━━━━━━━━━━━━━━━━━━━\u001b[0m \u001b[32m44.6/44.6 kB\u001b[0m \u001b[31m305.0 MB/s\u001b[0m eta \u001b[36m0:00:00\u001b[0m\n",
            "\u001b[?25hDownloading urllib3-2.5.0-py3-none-any.whl (129 kB)\n",
            "\u001b[2K   \u001b[90m━━━━━━━━━━━━━━━━━━━━━━━━━━━━━━━━━━━━━━━\u001b[0m \u001b[32m129.8/129.8 kB\u001b[0m \u001b[31m328.9 MB/s\u001b[0m eta \u001b[36m0:00:00\u001b[0m\n",
            "\u001b[?25hBuilding wheels for collected packages: Pillow, diffimg\n",
            "  Building wheel for Pillow (setup.py) ... \u001b[?25l\u001b[?25hdone\n",
            "  Created wheel for Pillow: filename=Pillow-7.0.0-cp312-cp312-linux_x86_64.whl size=1138083 sha256=c8e3c2c66c70a4ea309a7300229f1483cbe4d782a1af4fb5378f7e12c6216735\n",
            "  Stored in directory: /tmp/pip-ephem-wheel-cache-xpwd0yvu/wheels/04/de/dd/1bdc0fd1d2d0b084eac0ddcb2f251fdc0d91609e3e436bb8a7\n",
            "  Building wheel for diffimg (setup.py) ... \u001b[?25l\u001b[?25hdone\n",
            "  Created wheel for diffimg: filename=diffimg-0.2.3-py3-none-any.whl size=4018 sha256=31d329c15fb57a34f51312f1262bb96aed10d7c9a201ee34d4a93441cff5e3b9\n",
            "  Stored in directory: /tmp/pip-ephem-wheel-cache-xpwd0yvu/wheels/23/9c/12/2a68ce2e7aeebc9dd47b8378cf0354a038e8600c9b6a28ba88\n",
            "Successfully built Pillow diffimg\n",
            "Installing collected packages: urllib3, typing-extensions, tqdm, soupsieve, Pillow, numpy, idna, charset_normalizer, certifi, requests, opencv-python, diffimg, beautifulsoup4, trdg\n",
            "  Attempting uninstall: urllib3\n",
            "    Found existing installation: urllib3 2.5.0\n",
            "    Uninstalling urllib3-2.5.0:\n",
            "      Successfully uninstalled urllib3-2.5.0\n",
            "  Attempting uninstall: typing-extensions\n",
            "    Found existing installation: typing_extensions 4.15.0\n",
            "    Uninstalling typing_extensions-4.15.0:\n",
            "      Successfully uninstalled typing_extensions-4.15.0\n",
            "  Attempting uninstall: tqdm\n",
            "    Found existing installation: tqdm 4.67.1\n",
            "    Uninstalling tqdm-4.67.1:\n",
            "      Successfully uninstalled tqdm-4.67.1\n",
            "  Attempting uninstall: soupsieve\n",
            "    Found existing installation: soupsieve 2.8\n",
            "    Uninstalling soupsieve-2.8:\n",
            "      Successfully uninstalled soupsieve-2.8\n",
            "  Attempting uninstall: Pillow\n",
            "    Found existing installation: Pillow 7.0.0\n",
            "    Uninstalling Pillow-7.0.0:\n",
            "      Successfully uninstalled Pillow-7.0.0\n",
            "  Attempting uninstall: numpy\n",
            "    Found existing installation: numpy 2.0.2\n",
            "    Uninstalling numpy-2.0.2:\n",
            "      Successfully uninstalled numpy-2.0.2\n",
            "  Attempting uninstall: idna\n",
            "    Found existing installation: idna 3.10\n",
            "    Uninstalling idna-3.10:\n",
            "      Successfully uninstalled idna-3.10\n",
            "  Attempting uninstall: charset_normalizer\n",
            "    Found existing installation: charset-normalizer 3.4.3\n",
            "    Uninstalling charset-normalizer-3.4.3:\n",
            "      Successfully uninstalled charset-normalizer-3.4.3\n",
            "  Attempting uninstall: certifi\n",
            "    Found existing installation: certifi 2025.8.3\n",
            "    Uninstalling certifi-2025.8.3:\n",
            "      Successfully uninstalled certifi-2025.8.3\n",
            "  Attempting uninstall: requests\n",
            "    Found existing installation: requests 2.32.4\n",
            "    Uninstalling requests-2.32.4:\n",
            "      Successfully uninstalled requests-2.32.4\n",
            "  Attempting uninstall: opencv-python\n",
            "    Found existing installation: opencv-python 4.5.5.64\n",
            "    Uninstalling opencv-python-4.5.5.64:\n",
            "      Successfully uninstalled opencv-python-4.5.5.64\n",
            "  Attempting uninstall: diffimg\n",
            "    Found existing installation: diffimg 0.2.3\n",
            "    Uninstalling diffimg-0.2.3:\n",
            "      Successfully uninstalled diffimg-0.2.3\n",
            "  Attempting uninstall: beautifulsoup4\n",
            "    Found existing installation: beautifulsoup4 4.13.5\n",
            "    Uninstalling beautifulsoup4-4.13.5:\n",
            "      Successfully uninstalled beautifulsoup4-4.13.5\n",
            "  Attempting uninstall: trdg\n",
            "    Found existing installation: trdg 1.6.0\n",
            "    Uninstalling trdg-1.6.0:\n",
            "      Successfully uninstalled trdg-1.6.0\n",
            "\u001b[31mERROR: pip's dependency resolver does not currently take into account all the packages that are installed. This behaviour is the source of the following dependency conflicts.\n",
            "google-colab 1.0.0 requires requests==2.32.4, but you have requests 2.32.5 which is incompatible.\n",
            "cupy-cuda12x 13.3.0 requires numpy<2.3,>=1.22, but you have numpy 2.3.3 which is incompatible.\n",
            "gradio 5.46.0 requires pillow<12.0,>=8.0, but you have pillow 7.0.0 which is incompatible.\n",
            "tensorflow 2.19.0 requires numpy<2.2.0,>=1.26.0, but you have numpy 2.3.3 which is incompatible.\n",
            "scikit-image 0.25.2 requires pillow>=10.1, but you have pillow 7.0.0 which is incompatible.\n",
            "matplotlib 3.10.0 requires pillow>=8, but you have pillow 7.0.0 which is incompatible.\n",
            "bokeh 3.7.3 requires pillow>=7.1.0, but you have pillow 7.0.0 which is incompatible.\n",
            "imageio 2.37.0 requires pillow>=8.3.2, but you have pillow 7.0.0 which is incompatible.\n",
            "torchtune 0.6.1 requires Pillow>=9.4.0, but you have pillow 7.0.0 which is incompatible.\n",
            "fastai 2.8.4 requires pillow>=9.0.0, but you have pillow 7.0.0 which is incompatible.\n",
            "numba 0.60.0 requires numpy<2.1,>=1.22, but you have numpy 2.3.3 which is incompatible.\n",
            "opencv-python-headless 4.12.0.88 requires numpy<2.3.0,>=2; python_version >= \"3.9\", but you have numpy 2.3.3 which is incompatible.\n",
            "opencv-contrib-python 4.12.0.88 requires numpy<2.3.0,>=2; python_version >= \"3.9\", but you have numpy 2.3.3 which is incompatible.\u001b[0m\u001b[31m\n",
            "\u001b[0mSuccessfully installed Pillow-7.0.0 beautifulsoup4-4.14.2 certifi-2025.8.3 charset_normalizer-3.4.3 diffimg-0.2.3 idna-3.10 numpy-2.3.3 opencv-python-4.5.5.64 requests-2.32.5 soupsieve-2.8 tqdm-4.67.1 trdg-1.6.0 typing-extensions-4.15.0 urllib3-2.5.0\n"
          ]
        },
        {
          "output_type": "display_data",
          "data": {
            "application/vnd.colab-display-data+json": {
              "pip_warning": {
                "packages": [
                  "PIL",
                  "certifi",
                  "numpy",
                  "trdg"
                ]
              },
              "id": "8ba51ec6502d4c659df5ada2c6d3f1cd"
            }
          },
          "metadata": {}
        },
        {
          "output_type": "error",
          "ename": "ImportError",
          "evalue": "cannot import name 'isDirectory' from 'PIL._util' (/usr/local/lib/python3.12/dist-packages/PIL/_util.py)",
          "traceback": [
            "\u001b[0;31m---------------------------------------------------------------------------\u001b[0m",
            "\u001b[0;31mImportError\u001b[0m                               Traceback (most recent call last)",
            "\u001b[0;32m/tmp/ipython-input-3019357067.py\u001b[0m in \u001b[0;36m<cell line: 0>\u001b[0;34m()\u001b[0m\n\u001b[1;32m      1\u001b[0m \u001b[0mget_ipython\u001b[0m\u001b[0;34m(\u001b[0m\u001b[0;34m)\u001b[0m\u001b[0;34m.\u001b[0m\u001b[0msystem\u001b[0m\u001b[0;34m(\u001b[0m\u001b[0;34m'pip install trdg==1.6.0 opencv-python==4.5.5.64 Pillow==7.0.0 --force-reinstall --no-cache-dir'\u001b[0m\u001b[0;34m)\u001b[0m\u001b[0;34m\u001b[0m\u001b[0;34m\u001b[0m\u001b[0m\n\u001b[1;32m      2\u001b[0m \u001b[0;34m\u001b[0m\u001b[0m\n\u001b[0;32m----> 3\u001b[0;31m \u001b[0;32mfrom\u001b[0m \u001b[0mtrdg\u001b[0m\u001b[0;34m.\u001b[0m\u001b[0mgenerators\u001b[0m \u001b[0;32mimport\u001b[0m \u001b[0mGeneratorFromStrings\u001b[0m\u001b[0;34m\u001b[0m\u001b[0;34m\u001b[0m\u001b[0m\n\u001b[0m\u001b[1;32m      4\u001b[0m \u001b[0;34m\u001b[0m\u001b[0m\n\u001b[1;32m      5\u001b[0m \u001b[0mfonts_path\u001b[0m \u001b[0;34m=\u001b[0m \u001b[0;34m'/content/drive/MyDrive/imageProcessing/fonts'\u001b[0m\u001b[0;34m\u001b[0m\u001b[0;34m\u001b[0m\u001b[0m\n",
            "\u001b[0;32m/usr/local/lib/python3.12/dist-packages/trdg/generators/__init__.py\u001b[0m in \u001b[0;36m<module>\u001b[0;34m\u001b[0m\n\u001b[0;32m----> 1\u001b[0;31m \u001b[0;32mfrom\u001b[0m \u001b[0mtrdg\u001b[0m\u001b[0;34m.\u001b[0m\u001b[0mgenerators\u001b[0m\u001b[0;34m.\u001b[0m\u001b[0mfrom_dict\u001b[0m \u001b[0;32mimport\u001b[0m \u001b[0mGeneratorFromDict\u001b[0m\u001b[0;34m\u001b[0m\u001b[0;34m\u001b[0m\u001b[0m\n\u001b[0m\u001b[1;32m      2\u001b[0m \u001b[0;32mfrom\u001b[0m \u001b[0mtrdg\u001b[0m\u001b[0;34m.\u001b[0m\u001b[0mgenerators\u001b[0m\u001b[0;34m.\u001b[0m\u001b[0mfrom_random\u001b[0m \u001b[0;32mimport\u001b[0m \u001b[0mGeneratorFromRandom\u001b[0m\u001b[0;34m\u001b[0m\u001b[0;34m\u001b[0m\u001b[0m\n\u001b[1;32m      3\u001b[0m \u001b[0;32mfrom\u001b[0m \u001b[0mtrdg\u001b[0m\u001b[0;34m.\u001b[0m\u001b[0mgenerators\u001b[0m\u001b[0;34m.\u001b[0m\u001b[0mfrom_strings\u001b[0m \u001b[0;32mimport\u001b[0m \u001b[0mGeneratorFromStrings\u001b[0m\u001b[0;34m\u001b[0m\u001b[0;34m\u001b[0m\u001b[0m\n\u001b[1;32m      4\u001b[0m \u001b[0;32mfrom\u001b[0m \u001b[0mtrdg\u001b[0m\u001b[0;34m.\u001b[0m\u001b[0mgenerators\u001b[0m\u001b[0;34m.\u001b[0m\u001b[0mfrom_wikipedia\u001b[0m \u001b[0;32mimport\u001b[0m \u001b[0mGeneratorFromWikipedia\u001b[0m\u001b[0;34m\u001b[0m\u001b[0;34m\u001b[0m\u001b[0m\n",
            "\u001b[0;32m/usr/local/lib/python3.12/dist-packages/trdg/generators/from_dict.py\u001b[0m in \u001b[0;36m<module>\u001b[0;34m\u001b[0m\n\u001b[1;32m      1\u001b[0m \u001b[0;32mimport\u001b[0m \u001b[0mos\u001b[0m\u001b[0;34m\u001b[0m\u001b[0;34m\u001b[0m\u001b[0m\n\u001b[1;32m      2\u001b[0m \u001b[0;34m\u001b[0m\u001b[0m\n\u001b[0;32m----> 3\u001b[0;31m \u001b[0;32mfrom\u001b[0m \u001b[0;34m.\u001b[0m\u001b[0mfrom_strings\u001b[0m \u001b[0;32mimport\u001b[0m \u001b[0mGeneratorFromStrings\u001b[0m\u001b[0;34m\u001b[0m\u001b[0;34m\u001b[0m\u001b[0m\n\u001b[0m\u001b[1;32m      4\u001b[0m \u001b[0;32mfrom\u001b[0m \u001b[0;34m.\u001b[0m\u001b[0;34m.\u001b[0m\u001b[0mdata_generator\u001b[0m \u001b[0;32mimport\u001b[0m \u001b[0mFakeTextDataGenerator\u001b[0m\u001b[0;34m\u001b[0m\u001b[0;34m\u001b[0m\u001b[0m\n\u001b[1;32m      5\u001b[0m \u001b[0;32mfrom\u001b[0m \u001b[0;34m.\u001b[0m\u001b[0;34m.\u001b[0m\u001b[0mstring_generator\u001b[0m \u001b[0;32mimport\u001b[0m \u001b[0mcreate_strings_from_dict\u001b[0m\u001b[0;34m\u001b[0m\u001b[0;34m\u001b[0m\u001b[0m\n",
            "\u001b[0;32m/usr/local/lib/python3.12/dist-packages/trdg/generators/from_strings.py\u001b[0m in \u001b[0;36m<module>\u001b[0;34m\u001b[0m\n\u001b[1;32m      1\u001b[0m \u001b[0;32mimport\u001b[0m \u001b[0mos\u001b[0m\u001b[0;34m\u001b[0m\u001b[0;34m\u001b[0m\u001b[0m\n\u001b[1;32m      2\u001b[0m \u001b[0;34m\u001b[0m\u001b[0m\n\u001b[0;32m----> 3\u001b[0;31m \u001b[0;32mfrom\u001b[0m \u001b[0;34m.\u001b[0m\u001b[0;34m.\u001b[0m\u001b[0mdata_generator\u001b[0m \u001b[0;32mimport\u001b[0m \u001b[0mFakeTextDataGenerator\u001b[0m\u001b[0;34m\u001b[0m\u001b[0;34m\u001b[0m\u001b[0m\n\u001b[0m\u001b[1;32m      4\u001b[0m \u001b[0;32mfrom\u001b[0m \u001b[0;34m.\u001b[0m\u001b[0;34m.\u001b[0m\u001b[0mutils\u001b[0m \u001b[0;32mimport\u001b[0m \u001b[0mload_dict\u001b[0m\u001b[0;34m,\u001b[0m \u001b[0mload_fonts\u001b[0m\u001b[0;34m\u001b[0m\u001b[0;34m\u001b[0m\u001b[0m\n\u001b[1;32m      5\u001b[0m \u001b[0;34m\u001b[0m\u001b[0m\n",
            "\u001b[0;32m/usr/local/lib/python3.12/dist-packages/trdg/data_generator.py\u001b[0m in \u001b[0;36m<module>\u001b[0;34m\u001b[0m\n\u001b[1;32m      4\u001b[0m \u001b[0;32mfrom\u001b[0m \u001b[0mPIL\u001b[0m \u001b[0;32mimport\u001b[0m \u001b[0mImage\u001b[0m\u001b[0;34m,\u001b[0m \u001b[0mImageFilter\u001b[0m\u001b[0;34m\u001b[0m\u001b[0;34m\u001b[0m\u001b[0m\n\u001b[1;32m      5\u001b[0m \u001b[0;34m\u001b[0m\u001b[0m\n\u001b[0;32m----> 6\u001b[0;31m \u001b[0;32mfrom\u001b[0m \u001b[0mtrdg\u001b[0m \u001b[0;32mimport\u001b[0m \u001b[0mcomputer_text_generator\u001b[0m\u001b[0;34m,\u001b[0m \u001b[0mbackground_generator\u001b[0m\u001b[0;34m,\u001b[0m \u001b[0mdistorsion_generator\u001b[0m\u001b[0;34m\u001b[0m\u001b[0;34m\u001b[0m\u001b[0m\n\u001b[0m\u001b[1;32m      7\u001b[0m \u001b[0;34m\u001b[0m\u001b[0m\n\u001b[1;32m      8\u001b[0m \u001b[0;32mtry\u001b[0m\u001b[0;34m:\u001b[0m\u001b[0;34m\u001b[0m\u001b[0;34m\u001b[0m\u001b[0m\n",
            "\u001b[0;32m/usr/local/lib/python3.12/dist-packages/trdg/computer_text_generator.py\u001b[0m in \u001b[0;36m<module>\u001b[0;34m\u001b[0m\n\u001b[1;32m      1\u001b[0m \u001b[0;32mimport\u001b[0m \u001b[0mrandom\u001b[0m \u001b[0;32mas\u001b[0m \u001b[0mrnd\u001b[0m\u001b[0;34m\u001b[0m\u001b[0;34m\u001b[0m\u001b[0m\n\u001b[1;32m      2\u001b[0m \u001b[0;34m\u001b[0m\u001b[0m\n\u001b[0;32m----> 3\u001b[0;31m \u001b[0;32mfrom\u001b[0m \u001b[0mPIL\u001b[0m \u001b[0;32mimport\u001b[0m \u001b[0mImage\u001b[0m\u001b[0;34m,\u001b[0m \u001b[0mImageColor\u001b[0m\u001b[0;34m,\u001b[0m \u001b[0mImageFont\u001b[0m\u001b[0;34m,\u001b[0m \u001b[0mImageDraw\u001b[0m\u001b[0;34m,\u001b[0m \u001b[0mImageFilter\u001b[0m\u001b[0;34m\u001b[0m\u001b[0;34m\u001b[0m\u001b[0m\n\u001b[0m\u001b[1;32m      4\u001b[0m \u001b[0;34m\u001b[0m\u001b[0m\n\u001b[1;32m      5\u001b[0m \u001b[0;34m\u001b[0m\u001b[0m\n",
            "\u001b[0;32m/usr/local/lib/python3.12/dist-packages/PIL/ImageFont.py\u001b[0m in \u001b[0;36m<module>\u001b[0;34m\u001b[0m\n\u001b[1;32m     32\u001b[0m \u001b[0;34m\u001b[0m\u001b[0m\n\u001b[1;32m     33\u001b[0m \u001b[0;32mfrom\u001b[0m \u001b[0;34m.\u001b[0m \u001b[0;32mimport\u001b[0m \u001b[0mImage\u001b[0m\u001b[0;34m\u001b[0m\u001b[0;34m\u001b[0m\u001b[0m\n\u001b[0;32m---> 34\u001b[0;31m \u001b[0;32mfrom\u001b[0m \u001b[0;34m.\u001b[0m\u001b[0m_util\u001b[0m \u001b[0;32mimport\u001b[0m \u001b[0misDirectory\u001b[0m\u001b[0;34m,\u001b[0m \u001b[0misPath\u001b[0m\u001b[0;34m\u001b[0m\u001b[0;34m\u001b[0m\u001b[0m\n\u001b[0m\u001b[1;32m     35\u001b[0m \u001b[0;34m\u001b[0m\u001b[0m\n\u001b[1;32m     36\u001b[0m \u001b[0mLAYOUT_BASIC\u001b[0m \u001b[0;34m=\u001b[0m \u001b[0;36m0\u001b[0m\u001b[0;34m\u001b[0m\u001b[0;34m\u001b[0m\u001b[0m\n",
            "\u001b[0;31mImportError\u001b[0m: cannot import name 'isDirectory' from 'PIL._util' (/usr/local/lib/python3.12/dist-packages/PIL/_util.py)",
            "",
            "\u001b[0;31m---------------------------------------------------------------------------\u001b[0;32m\nNOTE: If your import is failing due to a missing package, you can\nmanually install dependencies using either !pip or !apt.\n\nTo view examples of installing some common dependencies, click the\n\"Open Examples\" button below.\n\u001b[0;31m---------------------------------------------------------------------------\u001b[0m\n"
          ],
          "errorDetails": {
            "actions": [
              {
                "action": "open_url",
                "actionText": "Open Examples",
                "url": "/notebooks/snippets/importing_libraries.ipynb"
              }
            ]
          }
        }
      ]
    },
    {
      "cell_type": "markdown",
      "metadata": {
        "id": "37adf06d"
      },
      "source": [
        "## Define image generation parameters retry 1\n",
        "\n",
        "### Subtask:\n",
        "Set up the parameters for the `trdg` generator, including the list of the first 500 words, the path to the Armenian fonts, and the output directory.\n"
      ]
    },
    {
      "cell_type": "markdown",
      "metadata": {
        "id": "fa5147cb"
      },
      "source": [
        "## Summary:\n",
        "\n",
        "### Data Analysis Key Findings\n",
        "\n",
        "*   The initial step successfully extracted the first 500 unique Armenian words from the specified text file.\n",
        "*   Attempts to install the `trdg` library and its dependencies (`Pillow`, `opencv-python`) failed due to persistent dependency conflicts, specifically related to `Pillow` version compatibility with the Python 3.12 environment.\n",
        "*   Despite trying specific versions of the libraries and using force reinstallation, the `trdg` generator could not be successfully imported or set up, leading to the failure of the image generation process.\n",
        "\n",
        "### Insights or Next Steps\n",
        "\n",
        "*   Investigate alternative libraries or approaches for generating synthetic images of text, as `trdg` appears incompatible with the current environment setup.\n",
        "*   Consider using a different Python environment version that is known to be compatible with the required versions of `trdg`, `Pillow`, and `opencv-python`.\n"
      ]
    }
  ]
}